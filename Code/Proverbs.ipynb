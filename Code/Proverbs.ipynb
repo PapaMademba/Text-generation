{
 "cells": [
  {
   "cell_type": "code",
   "execution_count": null,
   "metadata": {
    "id": "3i_Tut4jo9NZ"
   },
   "outputs": [],
   "source": [
    "# Vous pourriez avoir besoin d'exécuter le code ci dessous en commentaire\n",
    "# si une erreur survient lors de l'exécution du notebook\n",
    "#!pip install numpy==1.19.5"
   ]
  },
  {
   "cell_type": "code",
   "execution_count": 1,
   "metadata": {
    "id": "_g5Jy9XSo9Ng"
   },
   "outputs": [],
   "source": [
    "from tensorflow.keras.preprocessing.sequence import pad_sequences\n",
    "from tensorflow.keras.layers import Embedding, LSTM, Dense, Dropout, Bidirectional\n",
    "from tensorflow.keras.preprocessing.text import Tokenizer\n",
    "from tensorflow.keras.models import Sequential\n",
    "from tensorflow.keras.optimizers import Adam\n",
    "from tensorflow.keras import regularizers\n",
    "import tensorflow.keras.utils as ku \n",
    "import numpy as np\n",
    "import pandas as pd\n",
    "import string, os "
   ]
  },
  {
   "cell_type": "code",
   "execution_count": 2,
   "metadata": {
    "id": "Dw0z5fUIo9Nh"
   },
   "outputs": [],
   "source": [
    "all_reviews = []\n",
    "data = pd.read_csv('english.csv')\n",
    "all_reviews.extend(list(data.text.values))"
   ]
  },
  {
   "cell_type": "code",
   "execution_count": 3,
   "metadata": {
    "colab": {
     "base_uri": "https://localhost:8080/"
    },
    "id": "WmPqCX8xHzCV",
    "outputId": "60c79206-bfaf-41fb-82f2-d53e44f4c36f"
   },
   "outputs": [
    {
     "data": {
      "text/plain": [
       "2298"
      ]
     },
     "execution_count": 3,
     "metadata": {
      "tags": []
     },
     "output_type": "execute_result"
    }
   ],
   "source": [
    "len(all_reviews)"
   ]
  },
  {
   "cell_type": "code",
   "execution_count": 4,
   "metadata": {
    "id": "2usP_JFno9Ni"
   },
   "outputs": [],
   "source": [
    "all_reviews = all_reviews[:1000]"
   ]
  },
  {
   "cell_type": "code",
   "execution_count": 5,
   "metadata": {
    "colab": {
     "base_uri": "https://localhost:8080/"
    },
    "id": "9O1QX4Ero9Ni",
    "outputId": "161a1c78-658b-43ac-c508-eef28b7bc1b2"
   },
   "outputs": [
    {
     "data": {
      "text/plain": [
       "1000"
      ]
     },
     "execution_count": 5,
     "metadata": {
      "tags": []
     },
     "output_type": "execute_result"
    }
   ],
   "source": [
    "len(all_reviews)"
   ]
  },
  {
   "cell_type": "code",
   "execution_count": 6,
   "metadata": {
    "colab": {
     "base_uri": "https://localhost:8080/"
    },
    "id": "2Yciz5iNo9Nk",
    "outputId": "71d3e775-4eb2-41a6-d9d2-846a1a334572"
   },
   "outputs": [
    {
     "data": {
      "text/plain": [
       "['a bird in the hand is worth two in the bush',\n",
       " 'a bunch of fives',\n",
       " 'a chain is only as strong as its weakest link',\n",
       " 'a change is as good as a rest',\n",
       " 'a countenance more in sorrow than in anger',\n",
       " 'a daniel come to judgement',\n",
       " 'a diamond in the rough',\n",
       " 'a diamond is forever',\n",
       " 'a different kettle of fish',\n",
       " 'a dish fit for the gods']"
      ]
     },
     "execution_count": 6,
     "metadata": {
      "tags": []
     },
     "output_type": "execute_result"
    }
   ],
   "source": [
    "def clean_text(txt):\n",
    "    txt = \"\".join(v for v in txt if v not in string.punctuation).lower()\n",
    "    txt = txt.encode(\"utf8\").decode(\"ascii\",'ignore')\n",
    "    return txt \n",
    "\n",
    "corpus = [clean_text(x) for x in all_reviews]\n",
    "corpus[:10]"
   ]
  },
  {
   "cell_type": "code",
   "execution_count": 7,
   "metadata": {
    "id": "BG1PgIgTo9Nl"
   },
   "outputs": [],
   "source": [
    "tokenizer = Tokenizer()\n",
    "\n",
    "\n",
    "\n",
    "tokenizer.fit_on_texts(corpus)\n",
    "total_words = len(tokenizer.word_index) + 1\n"
   ]
  },
  {
   "cell_type": "code",
   "execution_count": 8,
   "metadata": {
    "id": "I5x_wWJ9o9Nm"
   },
   "outputs": [],
   "source": [
    "input_seq = []\n",
    "for line in all_reviews:\n",
    "    token_list = tokenizer.texts_to_sequences([line])[0]\n",
    "    for i in range(1, len(token_list)):\n",
    "        n_gram_seq = token_list[:i+1]\n",
    "        input_seq.append(n_gram_seq)"
   ]
  },
  {
   "cell_type": "code",
   "execution_count": 9,
   "metadata": {
    "id": "bxOwEwjho9Nm"
   },
   "outputs": [],
   "source": [
    "def gen_pad_seq(input_seq):\n",
    "    max_sequence_len = max([len(x) for x in input_seq])\n",
    "    input_seq = np.array(pad_sequences(input_seq, maxlen=max_sequence_len, padding='pre'))\n",
    "    \n",
    "    predictors, label = input_seq[:,:-1],input_seq[:,-1]\n",
    "    label = ku.to_categorical(label, num_classes=total_words)\n",
    "    return predictors, label, max_sequence_len\n",
    "\n",
    "predictors, label, max_sequence_len = gen_pad_seq(input_seq)"
   ]
  },
  {
   "cell_type": "code",
   "execution_count": 10,
   "metadata": {
    "colab": {
     "base_uri": "https://localhost:8080/"
    },
    "id": "w1Wwtvqco9Nm",
    "outputId": "79d7d673-3c3a-450a-ad94-9326022775da"
   },
   "outputs": [
    {
     "data": {
      "text/plain": [
       "14"
      ]
     },
     "execution_count": 10,
     "metadata": {
      "tags": []
     },
     "output_type": "execute_result"
    }
   ],
   "source": [
    "max_sequence_len"
   ]
  },
  {
   "cell_type": "code",
   "execution_count": 11,
   "metadata": {
    "id": "WCQ-s3VvAyg1"
   },
   "outputs": [],
   "source": [
    "from keras import backend as K\n",
    "\n",
    "def recall_m(y_true, y_pred):\n",
    "    true_positives = K.sum(K.round(K.clip(y_true * y_pred, 0, 1)))\n",
    "    possible_positives = K.sum(K.round(K.clip(y_true, 0, 1)))\n",
    "    recall = true_positives / (possible_positives + K.epsilon())\n",
    "    return recall\n",
    "\n",
    "def precision_m(y_true, y_pred):\n",
    "    true_positives = K.sum(K.round(K.clip(y_true * y_pred, 0, 1)))\n",
    "    predicted_positives = K.sum(K.round(K.clip(y_pred, 0, 1)))\n",
    "    precision = true_positives / (predicted_positives + K.epsilon())\n",
    "    return precision\n",
    "\n",
    "def f1_m(y_true, y_pred):\n",
    "    precision = precision_m(y_true, y_pred)\n",
    "    recall = recall_m(y_true, y_pred)\n",
    "    return 2*((precision*recall)/(precision+recall+K.epsilon()))\n",
    "\n",
    "def perplexity(y_true, y_pred):\n",
    "    cross_entropy = K.categorical_crossentropy(y_true, y_pred)\n",
    "    perplexity = K.pow(2.0, cross_entropy)\n",
    "    return perplexity"
   ]
  },
  {
   "cell_type": "code",
   "execution_count": 12,
   "metadata": {
    "colab": {
     "base_uri": "https://localhost:8080/"
    },
    "id": "FSjZCaRLo9Nn",
    "outputId": "1fcfa1e1-4f9a-44f3-a2fb-446b2c7195fb"
   },
   "outputs": [
    {
     "name": "stdout",
     "output_type": "stream",
     "text": [
      "Model: \"sequential\"\n",
      "_________________________________________________________________\n",
      "Layer (type)                 Output Shape              Param #   \n",
      "=================================================================\n",
      "embedding (Embedding)        (None, 13, 100)           155300    \n",
      "_________________________________________________________________\n",
      "lstm (LSTM)                  (None, 13, 150)           150600    \n",
      "_________________________________________________________________\n",
      "dropout (Dropout)            (None, 13, 150)           0         \n",
      "_________________________________________________________________\n",
      "lstm_1 (LSTM)                (None, 100)               100400    \n",
      "_________________________________________________________________\n",
      "dense (Dense)                (None, 776)               78376     \n",
      "_________________________________________________________________\n",
      "dropout_1 (Dropout)          (None, 776)               0         \n",
      "_________________________________________________________________\n",
      "dense_1 (Dense)              (None, 1553)              1206681   \n",
      "=================================================================\n",
      "Total params: 1,691,357\n",
      "Trainable params: 1,691,357\n",
      "Non-trainable params: 0\n",
      "_________________________________________________________________\n"
     ]
    }
   ],
   "source": [
    "model = Sequential()\n",
    "model.add(Embedding(total_words, 100, input_length=max_sequence_len-1))\n",
    "model.add((LSTM(150, activation='relu', return_sequences = True)))\n",
    "model.add(Dropout(0.3))\n",
    "model.add(LSTM(100))\n",
    "model.add(Dense(total_words/2, activation='relu', kernel_regularizer=regularizers.l2(0.01)))\n",
    "model.add(Dropout(0.3))\n",
    "model.add(Dense(total_words, activation='softmax'))\n",
    "model.compile(loss='categorical_crossentropy', optimizer='adam', metrics=['accuracy', f1_m, perplexity])\n",
    "model.summary()"
   ]
  },
  {
   "cell_type": "code",
   "execution_count": 13,
   "metadata": {
    "colab": {
     "base_uri": "https://localhost:8080/"
    },
    "id": "f6SZ-9JAo9No",
    "outputId": "a6d4acd8-1296-4fff-e064-1e452016b281"
   },
   "outputs": [
    {
     "name": "stdout",
     "output_type": "stream",
     "text": [
      "Epoch 1/300\n",
      "73/73 [==============================] - 9s 75ms/step - loss: 7.9652 - accuracy: 0.0671 - f1_m: 0.0000e+00 - perplexity: 163.3758 - val_loss: 6.6768 - val_accuracy: 0.0723 - val_f1_m: 0.0000e+00 - val_perplexity: 165.0733\n",
      "Epoch 2/300\n",
      "73/73 [==============================] - 4s 62ms/step - loss: 6.1529 - accuracy: 0.0855 - f1_m: 0.0000e+00 - perplexity: 128.5332 - val_loss: 6.6809 - val_accuracy: 0.0723 - val_f1_m: 0.0000e+00 - val_perplexity: 277.6906\n",
      "Epoch 3/300\n",
      "73/73 [==============================] - 4s 61ms/step - loss: 5.9668 - accuracy: 0.0668 - f1_m: 0.0000e+00 - perplexity: 115.9521 - val_loss: 6.7032 - val_accuracy: 0.0723 - val_f1_m: 0.0000e+00 - val_perplexity: 506.2223\n",
      "Epoch 4/300\n",
      "73/73 [==============================] - 5s 62ms/step - loss: 5.7374 - accuracy: 0.0792 - f1_m: 0.0000e+00 - perplexity: 108.3655 - val_loss: 6.8755 - val_accuracy: 0.0723 - val_f1_m: 0.0000e+00 - val_perplexity: 1658.3820\n",
      "Epoch 5/300\n",
      "73/73 [==============================] - 4s 61ms/step - loss: 5.6345 - accuracy: 0.0722 - f1_m: 0.0000e+00 - perplexity: 102.7527 - val_loss: 6.8943 - val_accuracy: 0.0723 - val_f1_m: 0.0000e+00 - val_perplexity: 1103.0203\n",
      "Epoch 6/300\n",
      "73/73 [==============================] - 5s 62ms/step - loss: 5.4999 - accuracy: 0.0832 - f1_m: 0.0000e+00 - perplexity: 94.6219 - val_loss: 7.0566 - val_accuracy: 0.0654 - val_f1_m: 0.0000e+00 - val_perplexity: 3751.1997\n",
      "Epoch 7/300\n",
      "73/73 [==============================] - 4s 62ms/step - loss: 5.5186 - accuracy: 0.0583 - f1_m: 0.0000e+00 - perplexity: 90.0665 - val_loss: 7.0439 - val_accuracy: 0.0723 - val_f1_m: 0.0000e+00 - val_perplexity: 3454.5515\n",
      "Epoch 8/300\n",
      "73/73 [==============================] - 4s 61ms/step - loss: 5.4724 - accuracy: 0.0723 - f1_m: 0.0000e+00 - perplexity: 86.8087 - val_loss: 7.1854 - val_accuracy: 0.0671 - val_f1_m: 0.0000e+00 - val_perplexity: 11722.3887\n",
      "Epoch 9/300\n",
      "73/73 [==============================] - 4s 61ms/step - loss: 5.3164 - accuracy: 0.0844 - f1_m: 0.0000e+00 - perplexity: 79.6104 - val_loss: 7.3976 - val_accuracy: 0.0740 - val_f1_m: 0.0000e+00 - val_perplexity: 37549.4453\n",
      "Epoch 10/300\n",
      "73/73 [==============================] - 4s 61ms/step - loss: 5.3322 - accuracy: 0.0830 - f1_m: 0.0000e+00 - perplexity: 78.4901 - val_loss: 7.5459 - val_accuracy: 0.0688 - val_f1_m: 0.0000e+00 - val_perplexity: 70413.4219\n",
      "Epoch 11/300\n",
      "73/73 [==============================] - 4s 62ms/step - loss: 5.1006 - accuracy: 0.0934 - f1_m: 0.0029 - perplexity: 68.8757 - val_loss: 7.5371 - val_accuracy: 0.0568 - val_f1_m: 0.0000e+00 - val_perplexity: 797327.6875\n",
      "Epoch 12/300\n",
      "73/73 [==============================] - 4s 61ms/step - loss: 5.0952 - accuracy: 0.0928 - f1_m: 0.0052 - perplexity: 66.6104 - val_loss: 7.7408 - val_accuracy: 0.0654 - val_f1_m: 0.0032 - val_perplexity: 2092846.7500\n",
      "Epoch 13/300\n",
      "73/73 [==============================] - 4s 61ms/step - loss: 4.9418 - accuracy: 0.1007 - f1_m: 0.0211 - perplexity: 61.7483 - val_loss: 7.7462 - val_accuracy: 0.0465 - val_f1_m: 0.0000e+00 - val_perplexity: 2058260.8750\n",
      "Epoch 14/300\n",
      "73/73 [==============================] - 4s 61ms/step - loss: 5.0427 - accuracy: 0.0734 - f1_m: 0.0127 - perplexity: 61.6081 - val_loss: 7.9203 - val_accuracy: 0.0344 - val_f1_m: 0.0000e+00 - val_perplexity: 1324028.0000\n",
      "Epoch 15/300\n",
      "73/73 [==============================] - 5s 62ms/step - loss: 4.9098 - accuracy: 0.1103 - f1_m: 0.0137 - perplexity: 58.9365 - val_loss: 8.0791 - val_accuracy: 0.0534 - val_f1_m: 0.0243 - val_perplexity: 8199400.0000\n",
      "Epoch 16/300\n",
      "73/73 [==============================] - 5s 62ms/step - loss: 4.8019 - accuracy: 0.1072 - f1_m: 0.0469 - perplexity: 54.5081 - val_loss: 8.1493 - val_accuracy: 0.0396 - val_f1_m: 0.0154 - val_perplexity: 113851024.0000\n",
      "Epoch 17/300\n",
      "73/73 [==============================] - 4s 61ms/step - loss: 4.7813 - accuracy: 0.1005 - f1_m: 0.0313 - perplexity: 52.6445 - val_loss: 8.2974 - val_accuracy: 0.0448 - val_f1_m: 0.0000e+00 - val_perplexity: 38094428.0000\n",
      "Epoch 18/300\n",
      "73/73 [==============================] - 4s 62ms/step - loss: 4.7307 - accuracy: 0.0953 - f1_m: 0.0388 - perplexity: 51.0346 - val_loss: 8.6383 - val_accuracy: 0.0499 - val_f1_m: 0.0180 - val_perplexity: 419345504.0000\n",
      "Epoch 19/300\n",
      "73/73 [==============================] - 5s 62ms/step - loss: 4.7542 - accuracy: 0.1044 - f1_m: 0.0360 - perplexity: 48.6940 - val_loss: 8.5531 - val_accuracy: 0.0413 - val_f1_m: 0.0096 - val_perplexity: 350665152.0000\n",
      "Epoch 20/300\n",
      "73/73 [==============================] - 5s 62ms/step - loss: 4.6636 - accuracy: 0.1044 - f1_m: 0.0399 - perplexity: 45.9597 - val_loss: 8.7965 - val_accuracy: 0.0241 - val_f1_m: 0.0032 - val_perplexity: 506503872.0000\n",
      "Epoch 21/300\n",
      "73/73 [==============================] - 5s 62ms/step - loss: 4.5306 - accuracy: 0.1116 - f1_m: 0.0502 - perplexity: 42.7113 - val_loss: 8.8084 - val_accuracy: 0.0465 - val_f1_m: 0.0064 - val_perplexity: 323196352.0000\n",
      "Epoch 22/300\n",
      "73/73 [==============================] - 4s 61ms/step - loss: 4.4457 - accuracy: 0.1286 - f1_m: 0.0527 - perplexity: 40.0270 - val_loss: 8.9868 - val_accuracy: 0.0396 - val_f1_m: 0.0242 - val_perplexity: 288699104.0000\n",
      "Epoch 23/300\n",
      "73/73 [==============================] - 4s 61ms/step - loss: 4.4950 - accuracy: 0.1206 - f1_m: 0.0566 - perplexity: 39.4947 - val_loss: 9.0910 - val_accuracy: 0.0448 - val_f1_m: 0.0182 - val_perplexity: 428915168.0000\n",
      "Epoch 24/300\n",
      "73/73 [==============================] - 5s 63ms/step - loss: 4.4277 - accuracy: 0.1295 - f1_m: 0.0641 - perplexity: 38.1358 - val_loss: 9.4048 - val_accuracy: 0.0534 - val_f1_m: 0.0244 - val_perplexity: 2422036480.0000\n",
      "Epoch 25/300\n",
      "73/73 [==============================] - 4s 61ms/step - loss: 4.3813 - accuracy: 0.1490 - f1_m: 0.0987 - perplexity: 36.2068 - val_loss: 9.3997 - val_accuracy: 0.0516 - val_f1_m: 0.0243 - val_perplexity: 2095393664.0000\n",
      "Epoch 26/300\n",
      "73/73 [==============================] - 4s 61ms/step - loss: 4.2517 - accuracy: 0.1523 - f1_m: 0.1249 - perplexity: 34.3880 - val_loss: 9.6598 - val_accuracy: 0.0361 - val_f1_m: 0.0208 - val_perplexity: 4607101440.0000\n",
      "Epoch 27/300\n",
      "73/73 [==============================] - 4s 62ms/step - loss: 4.2615 - accuracy: 0.1602 - f1_m: 0.1195 - perplexity: 33.3807 - val_loss: 9.5933 - val_accuracy: 0.0499 - val_f1_m: 0.0269 - val_perplexity: 988580544.0000\n",
      "Epoch 28/300\n",
      "73/73 [==============================] - 4s 61ms/step - loss: 4.2956 - accuracy: 0.1449 - f1_m: 0.0983 - perplexity: 32.3816 - val_loss: 9.5579 - val_accuracy: 0.0551 - val_f1_m: 0.0208 - val_perplexity: 479594528.0000\n",
      "Epoch 29/300\n",
      "73/73 [==============================] - 4s 61ms/step - loss: 4.2123 - accuracy: 0.1598 - f1_m: 0.1327 - perplexity: 31.2176 - val_loss: 9.8143 - val_accuracy: 0.0551 - val_f1_m: 0.0361 - val_perplexity: 1484914048.0000\n",
      "Epoch 30/300\n",
      "73/73 [==============================] - 5s 62ms/step - loss: 4.1347 - accuracy: 0.1753 - f1_m: 0.1643 - perplexity: 30.2019 - val_loss: 9.8731 - val_accuracy: 0.0499 - val_f1_m: 0.0297 - val_perplexity: 1425374592.0000\n",
      "Epoch 31/300\n",
      "73/73 [==============================] - 4s 61ms/step - loss: 4.0861 - accuracy: 0.1722 - f1_m: 0.1483 - perplexity: 28.6256 - val_loss: 9.9632 - val_accuracy: 0.0585 - val_f1_m: 0.0299 - val_perplexity: 1307230080.0000\n",
      "Epoch 32/300\n",
      "73/73 [==============================] - 4s 61ms/step - loss: 4.0494 - accuracy: 0.1877 - f1_m: 0.1528 - perplexity: 28.0057 - val_loss: 10.0860 - val_accuracy: 0.0499 - val_f1_m: 0.0239 - val_perplexity: 548304704.0000\n",
      "Epoch 33/300\n",
      "73/73 [==============================] - 5s 62ms/step - loss: 4.0103 - accuracy: 0.1695 - f1_m: 0.1468 - perplexity: 26.5761 - val_loss: 10.2429 - val_accuracy: 0.0585 - val_f1_m: 0.0331 - val_perplexity: 1072126208.0000\n",
      "Epoch 34/300\n",
      "73/73 [==============================] - 4s 62ms/step - loss: 4.0184 - accuracy: 0.1938 - f1_m: 0.1676 - perplexity: 27.2157 - val_loss: 10.3251 - val_accuracy: 0.0551 - val_f1_m: 0.0270 - val_perplexity: 929426112.0000\n",
      "Epoch 35/300\n",
      "73/73 [==============================] - 5s 62ms/step - loss: 3.9323 - accuracy: 0.1800 - f1_m: 0.1559 - perplexity: 25.5173 - val_loss: 10.4135 - val_accuracy: 0.0516 - val_f1_m: 0.0301 - val_perplexity: 1351897984.0000\n",
      "Epoch 36/300\n",
      "73/73 [==============================] - 5s 62ms/step - loss: 3.8681 - accuracy: 0.2133 - f1_m: 0.1899 - perplexity: 24.4014 - val_loss: 10.5768 - val_accuracy: 0.0551 - val_f1_m: 0.0270 - val_perplexity: 2022818816.0000\n",
      "Epoch 37/300\n",
      "73/73 [==============================] - 5s 62ms/step - loss: 3.8661 - accuracy: 0.1959 - f1_m: 0.2033 - perplexity: 24.2705 - val_loss: 10.6471 - val_accuracy: 0.0602 - val_f1_m: 0.0301 - val_perplexity: 745019584.0000\n",
      "Epoch 38/300\n",
      "73/73 [==============================] - 5s 63ms/step - loss: 3.8126 - accuracy: 0.2019 - f1_m: 0.1896 - perplexity: 23.3699 - val_loss: 10.6237 - val_accuracy: 0.0654 - val_f1_m: 0.0301 - val_perplexity: 517423424.0000\n",
      "Epoch 39/300\n",
      "73/73 [==============================] - 4s 61ms/step - loss: 3.7832 - accuracy: 0.2101 - f1_m: 0.1679 - perplexity: 22.6363 - val_loss: 10.7346 - val_accuracy: 0.0568 - val_f1_m: 0.0270 - val_perplexity: 913471936.0000\n",
      "Epoch 40/300\n",
      "73/73 [==============================] - 5s 62ms/step - loss: 3.7881 - accuracy: 0.2089 - f1_m: 0.1720 - perplexity: 22.5328 - val_loss: 10.7297 - val_accuracy: 0.0585 - val_f1_m: 0.0328 - val_perplexity: 368961280.0000\n",
      "Epoch 41/300\n",
      "73/73 [==============================] - 5s 62ms/step - loss: 3.6498 - accuracy: 0.2201 - f1_m: 0.1904 - perplexity: 21.3490 - val_loss: 10.8204 - val_accuracy: 0.0482 - val_f1_m: 0.0299 - val_perplexity: 463030432.0000\n",
      "Epoch 42/300\n",
      "73/73 [==============================] - 5s 62ms/step - loss: 3.6926 - accuracy: 0.2076 - f1_m: 0.1991 - perplexity: 21.2130 - val_loss: 10.9359 - val_accuracy: 0.0602 - val_f1_m: 0.0301 - val_perplexity: 350739584.0000\n",
      "Epoch 43/300\n",
      "73/73 [==============================] - 5s 63ms/step - loss: 3.7018 - accuracy: 0.2210 - f1_m: 0.1895 - perplexity: 20.6917 - val_loss: 11.1312 - val_accuracy: 0.0585 - val_f1_m: 0.0300 - val_perplexity: 724098752.0000\n",
      "Epoch 44/300\n",
      "73/73 [==============================] - 5s 63ms/step - loss: 3.5717 - accuracy: 0.2334 - f1_m: 0.2147 - perplexity: 19.4556 - val_loss: 11.0481 - val_accuracy: 0.0516 - val_f1_m: 0.0331 - val_perplexity: 447389344.0000\n",
      "Epoch 45/300\n",
      "73/73 [==============================] - 4s 62ms/step - loss: 3.5044 - accuracy: 0.2471 - f1_m: 0.2127 - perplexity: 18.6667 - val_loss: 11.3031 - val_accuracy: 0.0568 - val_f1_m: 0.0330 - val_perplexity: 605514048.0000\n",
      "Epoch 46/300\n",
      "73/73 [==============================] - 5s 62ms/step - loss: 3.4555 - accuracy: 0.2537 - f1_m: 0.2166 - perplexity: 17.9260 - val_loss: 11.2628 - val_accuracy: 0.0551 - val_f1_m: 0.0330 - val_perplexity: 795947392.0000\n",
      "Epoch 47/300\n",
      "73/73 [==============================] - 5s 62ms/step - loss: 3.4707 - accuracy: 0.2563 - f1_m: 0.2074 - perplexity: 17.9133 - val_loss: 11.3293 - val_accuracy: 0.0551 - val_f1_m: 0.0330 - val_perplexity: 402602720.0000\n",
      "Epoch 48/300\n",
      "73/73 [==============================] - 5s 62ms/step - loss: 3.4363 - accuracy: 0.2521 - f1_m: 0.2124 - perplexity: 17.2100 - val_loss: 11.5811 - val_accuracy: 0.0534 - val_f1_m: 0.0329 - val_perplexity: 3516456960.0000\n",
      "Epoch 49/300\n",
      "73/73 [==============================] - 5s 62ms/step - loss: 3.4031 - accuracy: 0.2734 - f1_m: 0.2477 - perplexity: 17.6587 - val_loss: 11.5411 - val_accuracy: 0.0448 - val_f1_m: 0.0330 - val_perplexity: 837422272.0000\n",
      "Epoch 50/300\n",
      "73/73 [==============================] - 5s 62ms/step - loss: 3.3919 - accuracy: 0.2723 - f1_m: 0.2196 - perplexity: 17.1813 - val_loss: 11.5465 - val_accuracy: 0.0465 - val_f1_m: 0.0330 - val_perplexity: 442360256.0000\n",
      "Epoch 51/300\n",
      "73/73 [==============================] - 5s 62ms/step - loss: 3.3656 - accuracy: 0.2646 - f1_m: 0.2224 - perplexity: 16.0120 - val_loss: 11.4869 - val_accuracy: 0.0516 - val_f1_m: 0.0329 - val_perplexity: 668554176.0000\n",
      "Epoch 52/300\n",
      "73/73 [==============================] - 5s 63ms/step - loss: 3.3810 - accuracy: 0.2713 - f1_m: 0.2290 - perplexity: 16.5497 - val_loss: 11.6686 - val_accuracy: 0.0534 - val_f1_m: 0.0327 - val_perplexity: 1323264512.0000\n",
      "Epoch 53/300\n",
      "73/73 [==============================] - 5s 63ms/step - loss: 3.3696 - accuracy: 0.2654 - f1_m: 0.2452 - perplexity: 16.8041 - val_loss: 11.7966 - val_accuracy: 0.0516 - val_f1_m: 0.0331 - val_perplexity: 1234710912.0000\n",
      "Epoch 54/300\n",
      "73/73 [==============================] - 5s 62ms/step - loss: 3.2091 - accuracy: 0.2887 - f1_m: 0.2659 - perplexity: 14.8867 - val_loss: 11.7764 - val_accuracy: 0.0551 - val_f1_m: 0.0299 - val_perplexity: 502703712.0000\n",
      "Epoch 55/300\n",
      "73/73 [==============================] - 4s 62ms/step - loss: 3.2423 - accuracy: 0.2969 - f1_m: 0.2436 - perplexity: 15.2445 - val_loss: 11.9608 - val_accuracy: 0.0516 - val_f1_m: 0.0301 - val_perplexity: 1052184000.0000\n",
      "Epoch 56/300\n",
      "73/73 [==============================] - 5s 62ms/step - loss: 3.2038 - accuracy: 0.2929 - f1_m: 0.2596 - perplexity: 14.5524 - val_loss: 11.9897 - val_accuracy: 0.0465 - val_f1_m: 0.0343 - val_perplexity: 2019966208.0000\n",
      "Epoch 57/300\n",
      "73/73 [==============================] - 5s 62ms/step - loss: 3.1583 - accuracy: 0.2970 - f1_m: 0.2589 - perplexity: 13.9223 - val_loss: 11.8992 - val_accuracy: 0.0482 - val_f1_m: 0.0298 - val_perplexity: 558134464.0000\n",
      "Epoch 58/300\n",
      "73/73 [==============================] - 5s 62ms/step - loss: 3.1400 - accuracy: 0.3035 - f1_m: 0.2632 - perplexity: 13.9954 - val_loss: 12.1846 - val_accuracy: 0.0568 - val_f1_m: 0.0329 - val_perplexity: 2210700800.0000\n",
      "Epoch 59/300\n",
      "73/73 [==============================] - 5s 63ms/step - loss: 3.0520 - accuracy: 0.3197 - f1_m: 0.2743 - perplexity: 12.9698 - val_loss: 12.2262 - val_accuracy: 0.0516 - val_f1_m: 0.0446 - val_perplexity: 1719708032.0000\n",
      "Epoch 60/300\n",
      "73/73 [==============================] - 5s 63ms/step - loss: 3.1091 - accuracy: 0.3078 - f1_m: 0.2657 - perplexity: 13.3518 - val_loss: 12.0485 - val_accuracy: 0.0465 - val_f1_m: 0.0333 - val_perplexity: 794841600.0000\n",
      "Epoch 61/300\n",
      "73/73 [==============================] - 5s 62ms/step - loss: 3.1331 - accuracy: 0.3167 - f1_m: 0.2434 - perplexity: 13.5081 - val_loss: 12.1519 - val_accuracy: 0.0448 - val_f1_m: 0.0386 - val_perplexity: 432141440.0000\n",
      "Epoch 62/300\n",
      "73/73 [==============================] - 5s 64ms/step - loss: 3.0595 - accuracy: 0.3172 - f1_m: 0.2510 - perplexity: 13.1213 - val_loss: 12.3637 - val_accuracy: 0.0499 - val_f1_m: 0.0355 - val_perplexity: 1148566912.0000\n",
      "Epoch 63/300\n",
      "73/73 [==============================] - 5s 63ms/step - loss: 3.0193 - accuracy: 0.3247 - f1_m: 0.2691 - perplexity: 12.2787 - val_loss: 12.3894 - val_accuracy: 0.0585 - val_f1_m: 0.0329 - val_perplexity: 807863744.0000\n",
      "Epoch 64/300\n",
      "73/73 [==============================] - 5s 63ms/step - loss: 2.9956 - accuracy: 0.3312 - f1_m: 0.2714 - perplexity: 12.7487 - val_loss: 12.4940 - val_accuracy: 0.0448 - val_f1_m: 0.0387 - val_perplexity: 1395293568.0000\n",
      "Epoch 65/300\n",
      "73/73 [==============================] - 5s 64ms/step - loss: 3.0056 - accuracy: 0.3132 - f1_m: 0.2696 - perplexity: 12.2626 - val_loss: 12.4816 - val_accuracy: 0.0499 - val_f1_m: 0.0329 - val_perplexity: 464683808.0000\n",
      "Epoch 66/300\n",
      "73/73 [==============================] - 5s 63ms/step - loss: 2.8850 - accuracy: 0.3639 - f1_m: 0.2998 - perplexity: 11.4746 - val_loss: 12.5618 - val_accuracy: 0.0568 - val_f1_m: 0.0517 - val_perplexity: 966224448.0000\n",
      "Epoch 67/300\n",
      "73/73 [==============================] - 5s 62ms/step - loss: 2.8915 - accuracy: 0.3494 - f1_m: 0.2944 - perplexity: 11.4342 - val_loss: 12.6143 - val_accuracy: 0.0482 - val_f1_m: 0.0328 - val_perplexity: 640948352.0000\n",
      "Epoch 68/300\n",
      "73/73 [==============================] - 5s 62ms/step - loss: 2.8358 - accuracy: 0.3675 - f1_m: 0.3249 - perplexity: 11.8539 - val_loss: 12.7363 - val_accuracy: 0.0568 - val_f1_m: 0.0435 - val_perplexity: 1713280384.0000\n",
      "Epoch 69/300\n",
      "73/73 [==============================] - 5s 63ms/step - loss: 2.8704 - accuracy: 0.3536 - f1_m: 0.2984 - perplexity: 11.3650 - val_loss: 12.6092 - val_accuracy: 0.0551 - val_f1_m: 0.0444 - val_perplexity: 689747136.0000\n",
      "Epoch 70/300\n",
      "73/73 [==============================] - 5s 63ms/step - loss: 2.7909 - accuracy: 0.3675 - f1_m: 0.2967 - perplexity: 10.8821 - val_loss: 12.5725 - val_accuracy: 0.0585 - val_f1_m: 0.0446 - val_perplexity: 480732576.0000\n",
      "Epoch 71/300\n",
      "73/73 [==============================] - 5s 62ms/step - loss: 2.7647 - accuracy: 0.3690 - f1_m: 0.3278 - perplexity: 10.7546 - val_loss: 12.7923 - val_accuracy: 0.0620 - val_f1_m: 0.0531 - val_perplexity: 554974528.0000\n",
      "Epoch 72/300\n",
      "73/73 [==============================] - 5s 63ms/step - loss: 2.7818 - accuracy: 0.3710 - f1_m: 0.3071 - perplexity: 10.4453 - val_loss: 12.8011 - val_accuracy: 0.0516 - val_f1_m: 0.0479 - val_perplexity: 1908032512.0000\n",
      "Epoch 73/300\n",
      "73/73 [==============================] - 5s 63ms/step - loss: 2.7461 - accuracy: 0.3819 - f1_m: 0.3041 - perplexity: 10.1497 - val_loss: 12.6551 - val_accuracy: 0.0585 - val_f1_m: 0.0565 - val_perplexity: 438007424.0000\n",
      "Epoch 74/300\n",
      "73/73 [==============================] - 5s 63ms/step - loss: 2.7362 - accuracy: 0.3758 - f1_m: 0.3167 - perplexity: 10.0586 - val_loss: 12.8623 - val_accuracy: 0.0585 - val_f1_m: 0.0439 - val_perplexity: 3680124928.0000\n",
      "Epoch 75/300\n",
      "73/73 [==============================] - 5s 63ms/step - loss: 2.7170 - accuracy: 0.3826 - f1_m: 0.3188 - perplexity: 9.8494 - val_loss: 13.0128 - val_accuracy: 0.0620 - val_f1_m: 0.0544 - val_perplexity: 1542568064.0000\n",
      "Epoch 76/300\n",
      "73/73 [==============================] - 5s 63ms/step - loss: 2.7135 - accuracy: 0.3917 - f1_m: 0.3108 - perplexity: 9.7592 - val_loss: 13.0246 - val_accuracy: 0.0620 - val_f1_m: 0.0408 - val_perplexity: 2688110848.0000\n",
      "Epoch 77/300\n",
      "73/73 [==============================] - 5s 62ms/step - loss: 2.6594 - accuracy: 0.4101 - f1_m: 0.3290 - perplexity: 9.6402 - val_loss: 12.9815 - val_accuracy: 0.0534 - val_f1_m: 0.0383 - val_perplexity: 2208214784.0000\n",
      "Epoch 78/300\n",
      "73/73 [==============================] - 5s 63ms/step - loss: 2.5921 - accuracy: 0.4067 - f1_m: 0.3352 - perplexity: 9.5111 - val_loss: 12.9812 - val_accuracy: 0.0620 - val_f1_m: 0.0586 - val_perplexity: 763222528.0000\n",
      "Epoch 79/300\n",
      "73/73 [==============================] - 5s 63ms/step - loss: 2.6389 - accuracy: 0.4044 - f1_m: 0.3123 - perplexity: 9.3990 - val_loss: 13.1607 - val_accuracy: 0.0620 - val_f1_m: 0.0544 - val_perplexity: 2625836544.0000\n",
      "Epoch 80/300\n",
      "73/73 [==============================] - 5s 63ms/step - loss: 2.5300 - accuracy: 0.4154 - f1_m: 0.3326 - perplexity: 8.5332 - val_loss: 13.1805 - val_accuracy: 0.0516 - val_f1_m: 0.0537 - val_perplexity: 3257433856.0000\n",
      "Epoch 81/300\n",
      "73/73 [==============================] - 5s 63ms/step - loss: 2.5077 - accuracy: 0.4472 - f1_m: 0.3605 - perplexity: 8.8112 - val_loss: 13.1663 - val_accuracy: 0.0602 - val_f1_m: 0.0600 - val_perplexity: 1641927552.0000\n",
      "Epoch 82/300\n",
      "73/73 [==============================] - 5s 62ms/step - loss: 2.4478 - accuracy: 0.4445 - f1_m: 0.3652 - perplexity: 8.2466 - val_loss: 13.1140 - val_accuracy: 0.0654 - val_f1_m: 0.0649 - val_perplexity: 2363836160.0000\n",
      "Epoch 83/300\n",
      "73/73 [==============================] - 5s 64ms/step - loss: 2.4919 - accuracy: 0.4529 - f1_m: 0.3611 - perplexity: 8.7938 - val_loss: 13.1211 - val_accuracy: 0.0637 - val_f1_m: 0.0589 - val_perplexity: 3761681408.0000\n",
      "Epoch 84/300\n",
      "73/73 [==============================] - 5s 63ms/step - loss: 2.4707 - accuracy: 0.4474 - f1_m: 0.3680 - perplexity: 8.3537 - val_loss: 13.1802 - val_accuracy: 0.0620 - val_f1_m: 0.0595 - val_perplexity: 3891265024.0000\n",
      "Epoch 85/300\n",
      "73/73 [==============================] - 5s 63ms/step - loss: 2.4432 - accuracy: 0.4489 - f1_m: 0.3774 - perplexity: 8.6790 - val_loss: 13.2615 - val_accuracy: 0.0620 - val_f1_m: 0.0595 - val_perplexity: 5800910336.0000\n",
      "Epoch 86/300\n",
      "73/73 [==============================] - 5s 64ms/step - loss: 2.4195 - accuracy: 0.4454 - f1_m: 0.3690 - perplexity: 8.7288 - val_loss: 13.1807 - val_accuracy: 0.0602 - val_f1_m: 0.0599 - val_perplexity: 2863644928.0000\n",
      "Epoch 87/300\n",
      "73/73 [==============================] - 5s 63ms/step - loss: 2.4203 - accuracy: 0.4522 - f1_m: 0.3746 - perplexity: 8.4325 - val_loss: 13.2523 - val_accuracy: 0.0637 - val_f1_m: 0.0653 - val_perplexity: 5266092544.0000\n",
      "Epoch 88/300\n",
      "73/73 [==============================] - 5s 64ms/step - loss: 2.3700 - accuracy: 0.4660 - f1_m: 0.3841 - perplexity: 8.3083 - val_loss: 13.5430 - val_accuracy: 0.0654 - val_f1_m: 0.0608 - val_perplexity: 7972678144.0000\n",
      "Epoch 89/300\n",
      "73/73 [==============================] - 5s 65ms/step - loss: 2.3262 - accuracy: 0.4731 - f1_m: 0.4000 - perplexity: 7.5334 - val_loss: 13.3959 - val_accuracy: 0.0775 - val_f1_m: 0.0643 - val_perplexity: 29655128064.0000\n",
      "Epoch 90/300\n",
      "73/73 [==============================] - 5s 65ms/step - loss: 2.3142 - accuracy: 0.4705 - f1_m: 0.3825 - perplexity: 7.5505 - val_loss: 13.4979 - val_accuracy: 0.0688 - val_f1_m: 0.0628 - val_perplexity: 34089107456.0000\n",
      "Epoch 91/300\n",
      "73/73 [==============================] - 5s 63ms/step - loss: 2.3343 - accuracy: 0.4663 - f1_m: 0.3781 - perplexity: 7.5772 - val_loss: 13.4047 - val_accuracy: 0.0740 - val_f1_m: 0.0651 - val_perplexity: 15272315904.0000\n",
      "Epoch 92/300\n",
      "73/73 [==============================] - 5s 64ms/step - loss: 2.3954 - accuracy: 0.4454 - f1_m: 0.3654 - perplexity: 8.0098 - val_loss: 13.4144 - val_accuracy: 0.0551 - val_f1_m: 0.0585 - val_perplexity: 26955157504.0000\n",
      "Epoch 93/300\n",
      "73/73 [==============================] - 5s 63ms/step - loss: 2.2909 - accuracy: 0.4745 - f1_m: 0.3908 - perplexity: 7.3675 - val_loss: 13.4444 - val_accuracy: 0.0620 - val_f1_m: 0.0656 - val_perplexity: 17853138944.0000\n",
      "Epoch 94/300\n",
      "73/73 [==============================] - 5s 64ms/step - loss: 2.2499 - accuracy: 0.5068 - f1_m: 0.3939 - perplexity: 6.9317 - val_loss: 13.5549 - val_accuracy: 0.0723 - val_f1_m: 0.0657 - val_perplexity: 31535925248.0000\n",
      "Epoch 95/300\n",
      "73/73 [==============================] - 5s 65ms/step - loss: 2.2463 - accuracy: 0.4832 - f1_m: 0.4003 - perplexity: 7.1744 - val_loss: 13.3321 - val_accuracy: 0.0671 - val_f1_m: 0.0584 - val_perplexity: 34131361792.0000\n",
      "Epoch 96/300\n",
      "73/73 [==============================] - 5s 64ms/step - loss: 2.1966 - accuracy: 0.5016 - f1_m: 0.3997 - perplexity: 6.6894 - val_loss: 13.4123 - val_accuracy: 0.0706 - val_f1_m: 0.0633 - val_perplexity: 231747387392.0000\n",
      "Epoch 97/300\n",
      "73/73 [==============================] - 5s 63ms/step - loss: 2.2267 - accuracy: 0.4917 - f1_m: 0.4190 - perplexity: 7.0789 - val_loss: 13.5947 - val_accuracy: 0.0637 - val_f1_m: 0.0638 - val_perplexity: 69838618624.0000\n",
      "Epoch 98/300\n",
      "73/73 [==============================] - 5s 64ms/step - loss: 2.2126 - accuracy: 0.5008 - f1_m: 0.4146 - perplexity: 6.8719 - val_loss: 13.5683 - val_accuracy: 0.0688 - val_f1_m: 0.0725 - val_perplexity: 239272067072.0000\n",
      "Epoch 99/300\n",
      "73/73 [==============================] - 5s 63ms/step - loss: 2.1797 - accuracy: 0.5175 - f1_m: 0.4205 - perplexity: 6.7848 - val_loss: 13.6892 - val_accuracy: 0.0723 - val_f1_m: 0.0741 - val_perplexity: 251036303360.0000\n",
      "Epoch 100/300\n",
      "73/73 [==============================] - 5s 63ms/step - loss: 2.0900 - accuracy: 0.5297 - f1_m: 0.4427 - perplexity: 6.3726 - val_loss: 13.6488 - val_accuracy: 0.0706 - val_f1_m: 0.0567 - val_perplexity: 38966722560.0000\n",
      "Epoch 101/300\n",
      "73/73 [==============================] - 5s 63ms/step - loss: 2.0586 - accuracy: 0.5431 - f1_m: 0.4380 - perplexity: 6.2272 - val_loss: 13.5204 - val_accuracy: 0.0671 - val_f1_m: 0.0651 - val_perplexity: 107891212288.0000\n",
      "Epoch 102/300\n",
      "73/73 [==============================] - 5s 64ms/step - loss: 2.1036 - accuracy: 0.5149 - f1_m: 0.4311 - perplexity: 6.2824 - val_loss: 13.7537 - val_accuracy: 0.0654 - val_f1_m: 0.0658 - val_perplexity: 194292367360.0000\n",
      "Epoch 103/300\n",
      "73/73 [==============================] - 5s 64ms/step - loss: 2.1215 - accuracy: 0.5131 - f1_m: 0.4306 - perplexity: 7.1896 - val_loss: 13.6918 - val_accuracy: 0.0671 - val_f1_m: 0.0632 - val_perplexity: 1301796749312.0000\n",
      "Epoch 104/300\n",
      "73/73 [==============================] - 5s 64ms/step - loss: 2.0257 - accuracy: 0.5579 - f1_m: 0.4423 - perplexity: 5.7427 - val_loss: 13.8210 - val_accuracy: 0.0637 - val_f1_m: 0.0665 - val_perplexity: 2654980276224.0000\n",
      "Epoch 105/300\n",
      "73/73 [==============================] - 5s 64ms/step - loss: 2.0911 - accuracy: 0.5228 - f1_m: 0.4458 - perplexity: 6.5138 - val_loss: 13.8695 - val_accuracy: 0.0654 - val_f1_m: 0.0646 - val_perplexity: 335613952000.0000\n",
      "Epoch 106/300\n",
      "73/73 [==============================] - 5s 64ms/step - loss: 2.0430 - accuracy: 0.5356 - f1_m: 0.4484 - perplexity: 5.9916 - val_loss: 13.8700 - val_accuracy: 0.0723 - val_f1_m: 0.0761 - val_perplexity: 299401379840.0000\n",
      "Epoch 107/300\n",
      "73/73 [==============================] - 5s 64ms/step - loss: 2.0051 - accuracy: 0.5432 - f1_m: 0.4647 - perplexity: 5.8345 - val_loss: 13.8364 - val_accuracy: 0.0809 - val_f1_m: 0.0680 - val_perplexity: 646893076480.0000\n",
      "Epoch 108/300\n",
      "73/73 [==============================] - 5s 64ms/step - loss: 2.0352 - accuracy: 0.5466 - f1_m: 0.4354 - perplexity: 5.8150 - val_loss: 13.8629 - val_accuracy: 0.0809 - val_f1_m: 0.0675 - val_perplexity: 282159448064.0000\n",
      "Epoch 109/300\n",
      "73/73 [==============================] - 5s 64ms/step - loss: 1.9443 - accuracy: 0.5822 - f1_m: 0.4967 - perplexity: 6.3262 - val_loss: 13.9089 - val_accuracy: 0.0706 - val_f1_m: 0.0632 - val_perplexity: 2231053058048.0000\n",
      "Epoch 110/300\n",
      "73/73 [==============================] - 5s 64ms/step - loss: 1.9509 - accuracy: 0.5496 - f1_m: 0.4798 - perplexity: 5.8302 - val_loss: 13.9592 - val_accuracy: 0.0706 - val_f1_m: 0.0730 - val_perplexity: 220020654080.0000\n",
      "Epoch 111/300\n",
      "73/73 [==============================] - 5s 64ms/step - loss: 2.0001 - accuracy: 0.5411 - f1_m: 0.4674 - perplexity: 6.2156 - val_loss: 13.8834 - val_accuracy: 0.0740 - val_f1_m: 0.0642 - val_perplexity: 665479479296.0000\n",
      "Epoch 112/300\n",
      "73/73 [==============================] - 5s 64ms/step - loss: 1.9389 - accuracy: 0.5678 - f1_m: 0.4870 - perplexity: 5.6079 - val_loss: 13.9847 - val_accuracy: 0.0757 - val_f1_m: 0.0673 - val_perplexity: 2180284547072.0000\n",
      "Epoch 113/300\n",
      "73/73 [==============================] - 5s 64ms/step - loss: 1.9133 - accuracy: 0.5722 - f1_m: 0.5060 - perplexity: 5.6374 - val_loss: 14.0647 - val_accuracy: 0.0706 - val_f1_m: 0.0684 - val_perplexity: 4560719446016.0000\n",
      "Epoch 114/300\n",
      "73/73 [==============================] - 5s 64ms/step - loss: 1.9497 - accuracy: 0.5657 - f1_m: 0.4818 - perplexity: 5.7536 - val_loss: 14.1786 - val_accuracy: 0.0757 - val_f1_m: 0.0684 - val_perplexity: 7080424505344.0000\n",
      "Epoch 115/300\n",
      "73/73 [==============================] - 5s 64ms/step - loss: 1.8409 - accuracy: 0.5879 - f1_m: 0.5200 - perplexity: 5.3782 - val_loss: 14.0204 - val_accuracy: 0.0826 - val_f1_m: 0.0701 - val_perplexity: 7643174797312.0000\n",
      "Epoch 116/300\n",
      "73/73 [==============================] - 5s 64ms/step - loss: 1.8758 - accuracy: 0.5884 - f1_m: 0.5108 - perplexity: 5.5076 - val_loss: 14.1476 - val_accuracy: 0.0757 - val_f1_m: 0.0753 - val_perplexity: 13983120621568.0000\n",
      "Epoch 117/300\n",
      "73/73 [==============================] - 5s 64ms/step - loss: 1.8166 - accuracy: 0.5959 - f1_m: 0.5050 - perplexity: 5.2152 - val_loss: 13.9460 - val_accuracy: 0.0671 - val_f1_m: 0.0727 - val_perplexity: 3244361515008.0000\n",
      "Epoch 118/300\n",
      "73/73 [==============================] - 5s 64ms/step - loss: 1.8153 - accuracy: 0.5874 - f1_m: 0.5215 - perplexity: 5.0819 - val_loss: 13.9997 - val_accuracy: 0.0723 - val_f1_m: 0.0697 - val_perplexity: 45255512555520.0000\n",
      "Epoch 119/300\n",
      "73/73 [==============================] - 5s 64ms/step - loss: 1.8326 - accuracy: 0.5957 - f1_m: 0.5124 - perplexity: 5.9385 - val_loss: 14.1970 - val_accuracy: 0.0688 - val_f1_m: 0.0680 - val_perplexity: 33743997763584.0000\n",
      "Epoch 120/300\n",
      "73/73 [==============================] - 5s 63ms/step - loss: 1.7791 - accuracy: 0.6085 - f1_m: 0.5285 - perplexity: 4.9440 - val_loss: 14.2028 - val_accuracy: 0.0654 - val_f1_m: 0.0657 - val_perplexity: 12066737881088.0000\n",
      "Epoch 121/300\n",
      "73/73 [==============================] - 5s 63ms/step - loss: 1.8519 - accuracy: 0.5824 - f1_m: 0.5149 - perplexity: 5.4224 - val_loss: 14.1347 - val_accuracy: 0.0654 - val_f1_m: 0.0623 - val_perplexity: 3243188944896.0000\n",
      "Epoch 122/300\n",
      "73/73 [==============================] - 5s 65ms/step - loss: 1.7845 - accuracy: 0.6204 - f1_m: 0.5383 - perplexity: 5.2769 - val_loss: 14.1729 - val_accuracy: 0.0775 - val_f1_m: 0.0704 - val_perplexity: 2852363960320.0000\n",
      "Epoch 123/300\n",
      "73/73 [==============================] - 5s 64ms/step - loss: 1.7847 - accuracy: 0.6094 - f1_m: 0.5490 - perplexity: 5.3491 - val_loss: 14.2472 - val_accuracy: 0.0706 - val_f1_m: 0.0670 - val_perplexity: 6673770479616.0000\n",
      "Epoch 124/300\n",
      "73/73 [==============================] - 5s 64ms/step - loss: 1.7810 - accuracy: 0.6183 - f1_m: 0.5235 - perplexity: 5.5372 - val_loss: 14.2880 - val_accuracy: 0.0740 - val_f1_m: 0.0680 - val_perplexity: 142244552114176.0000\n",
      "Epoch 125/300\n",
      "73/73 [==============================] - 5s 64ms/step - loss: 1.6548 - accuracy: 0.6385 - f1_m: 0.5789 - perplexity: 4.6935 - val_loss: 14.2536 - val_accuracy: 0.0723 - val_f1_m: 0.0660 - val_perplexity: 58895129116672.0000\n",
      "Epoch 126/300\n",
      "73/73 [==============================] - 5s 64ms/step - loss: 1.7207 - accuracy: 0.6121 - f1_m: 0.5489 - perplexity: 4.9920 - val_loss: 14.2214 - val_accuracy: 0.0706 - val_f1_m: 0.0655 - val_perplexity: 33502533779456.0000\n",
      "Epoch 127/300\n",
      "73/73 [==============================] - 5s 64ms/step - loss: 1.7017 - accuracy: 0.6270 - f1_m: 0.5708 - perplexity: 4.8913 - val_loss: 14.4135 - val_accuracy: 0.0740 - val_f1_m: 0.0623 - val_perplexity: 24282369359872.0000\n",
      "Epoch 128/300\n",
      "73/73 [==============================] - 5s 64ms/step - loss: 1.6638 - accuracy: 0.6338 - f1_m: 0.5682 - perplexity: 4.8067 - val_loss: 14.3751 - val_accuracy: 0.0723 - val_f1_m: 0.0657 - val_perplexity: 10478007877632.0000\n",
      "Epoch 129/300\n",
      "73/73 [==============================] - 5s 64ms/step - loss: 1.6946 - accuracy: 0.6370 - f1_m: 0.5617 - perplexity: 4.9838 - val_loss: 14.3240 - val_accuracy: 0.0723 - val_f1_m: 0.0677 - val_perplexity: 9938378162176.0000\n",
      "Epoch 130/300\n",
      "73/73 [==============================] - 5s 64ms/step - loss: 1.6717 - accuracy: 0.6269 - f1_m: 0.5714 - perplexity: 4.6979 - val_loss: 14.3948 - val_accuracy: 0.0792 - val_f1_m: 0.0762 - val_perplexity: 51745057144832.0000\n",
      "Epoch 131/300\n",
      "73/73 [==============================] - 5s 65ms/step - loss: 1.6551 - accuracy: 0.6452 - f1_m: 0.5490 - perplexity: 4.5960 - val_loss: 14.4952 - val_accuracy: 0.0671 - val_f1_m: 0.0751 - val_perplexity: 23613530963968.0000\n",
      "Epoch 132/300\n",
      "73/73 [==============================] - 5s 65ms/step - loss: 1.6616 - accuracy: 0.6216 - f1_m: 0.5772 - perplexity: 4.5915 - val_loss: 14.3986 - val_accuracy: 0.0826 - val_f1_m: 0.0738 - val_perplexity: 49433865617408.0000\n",
      "Epoch 133/300\n",
      "73/73 [==============================] - 5s 64ms/step - loss: 1.6256 - accuracy: 0.6513 - f1_m: 0.5898 - perplexity: 4.5337 - val_loss: 14.5639 - val_accuracy: 0.0688 - val_f1_m: 0.0696 - val_perplexity: 387206267011072.0000\n",
      "Epoch 134/300\n",
      "73/73 [==============================] - 5s 65ms/step - loss: 1.6821 - accuracy: 0.6366 - f1_m: 0.5649 - perplexity: 4.8852 - val_loss: 14.5001 - val_accuracy: 0.0775 - val_f1_m: 0.0804 - val_perplexity: 278932540620800.0000\n",
      "Epoch 135/300\n",
      "73/73 [==============================] - 5s 64ms/step - loss: 1.6106 - accuracy: 0.6446 - f1_m: 0.5930 - perplexity: 4.5720 - val_loss: 14.5414 - val_accuracy: 0.0861 - val_f1_m: 0.0690 - val_perplexity: 151876955799552.0000\n",
      "Epoch 136/300\n",
      "73/73 [==============================] - 5s 64ms/step - loss: 1.6196 - accuracy: 0.6562 - f1_m: 0.5941 - perplexity: 5.0605 - val_loss: 14.5816 - val_accuracy: 0.0775 - val_f1_m: 0.0679 - val_perplexity: 233825888108544.0000\n",
      "Epoch 137/300\n",
      "73/73 [==============================] - 5s 65ms/step - loss: 1.6321 - accuracy: 0.6286 - f1_m: 0.5632 - perplexity: 4.6649 - val_loss: 14.3606 - val_accuracy: 0.0740 - val_f1_m: 0.0678 - val_perplexity: 593487372222464.0000\n",
      "Epoch 138/300\n",
      "73/73 [==============================] - 5s 64ms/step - loss: 1.6166 - accuracy: 0.6500 - f1_m: 0.5977 - perplexity: 4.9312 - val_loss: 14.6601 - val_accuracy: 0.0792 - val_f1_m: 0.0708 - val_perplexity: 574487107993600.0000\n",
      "Epoch 139/300\n",
      "73/73 [==============================] - 5s 65ms/step - loss: 1.6095 - accuracy: 0.6410 - f1_m: 0.5975 - perplexity: 4.6042 - val_loss: 14.6833 - val_accuracy: 0.0671 - val_f1_m: 0.0717 - val_perplexity: 296558532755456.0000\n",
      "Epoch 140/300\n",
      "73/73 [==============================] - 5s 64ms/step - loss: 1.5750 - accuracy: 0.6505 - f1_m: 0.6055 - perplexity: 4.5697 - val_loss: 14.5147 - val_accuracy: 0.0792 - val_f1_m: 0.0729 - val_perplexity: 811806532567040.0000\n",
      "Epoch 141/300\n",
      "73/73 [==============================] - 5s 65ms/step - loss: 1.6063 - accuracy: 0.6447 - f1_m: 0.5917 - perplexity: 4.5042 - val_loss: 14.6533 - val_accuracy: 0.0775 - val_f1_m: 0.0760 - val_perplexity: 2282932421001216.0000\n",
      "Epoch 142/300\n",
      "73/73 [==============================] - 5s 65ms/step - loss: 1.6040 - accuracy: 0.6619 - f1_m: 0.6016 - perplexity: 5.0026 - val_loss: 14.6123 - val_accuracy: 0.0775 - val_f1_m: 0.0814 - val_perplexity: 705363284328448.0000\n",
      "Epoch 143/300\n",
      "73/73 [==============================] - 5s 65ms/step - loss: 1.5658 - accuracy: 0.6750 - f1_m: 0.5982 - perplexity: 4.4252 - val_loss: 14.8269 - val_accuracy: 0.0861 - val_f1_m: 0.0707 - val_perplexity: 1429225932324864.0000\n",
      "Epoch 144/300\n",
      "73/73 [==============================] - 5s 65ms/step - loss: 1.5323 - accuracy: 0.6802 - f1_m: 0.6324 - perplexity: 4.6282 - val_loss: 14.7324 - val_accuracy: 0.0792 - val_f1_m: 0.0701 - val_perplexity: 626865173692416.0000\n",
      "Epoch 145/300\n",
      "73/73 [==============================] - 5s 65ms/step - loss: 1.5486 - accuracy: 0.6638 - f1_m: 0.6029 - perplexity: 4.4366 - val_loss: 14.6850 - val_accuracy: 0.0723 - val_f1_m: 0.0768 - val_perplexity: 106646797811712.0000\n",
      "Epoch 146/300\n",
      "73/73 [==============================] - 5s 65ms/step - loss: 1.5171 - accuracy: 0.6779 - f1_m: 0.6273 - perplexity: 4.4814 - val_loss: 14.5934 - val_accuracy: 0.0878 - val_f1_m: 0.0759 - val_perplexity: 1318691325083648.0000\n",
      "Epoch 147/300\n",
      "73/73 [==============================] - 5s 64ms/step - loss: 1.5234 - accuracy: 0.6660 - f1_m: 0.6110 - perplexity: 4.1321 - val_loss: 14.7439 - val_accuracy: 0.0809 - val_f1_m: 0.0695 - val_perplexity: 1510309948817408.0000\n",
      "Epoch 148/300\n",
      "73/73 [==============================] - 5s 64ms/step - loss: 1.5223 - accuracy: 0.6677 - f1_m: 0.6262 - perplexity: 4.6595 - val_loss: 14.6261 - val_accuracy: 0.0792 - val_f1_m: 0.0770 - val_perplexity: 343077524865024.0000\n",
      "Epoch 149/300\n",
      "73/73 [==============================] - 5s 65ms/step - loss: 1.5206 - accuracy: 0.6639 - f1_m: 0.6249 - perplexity: 4.5888 - val_loss: 14.7325 - val_accuracy: 0.0706 - val_f1_m: 0.0762 - val_perplexity: 1365376680067072.0000\n",
      "Epoch 150/300\n",
      "73/73 [==============================] - 5s 65ms/step - loss: 1.4467 - accuracy: 0.6956 - f1_m: 0.6412 - perplexity: 4.2893 - val_loss: 14.8884 - val_accuracy: 0.0706 - val_f1_m: 0.0779 - val_perplexity: 1299342363197440.0000\n",
      "Epoch 151/300\n",
      "73/73 [==============================] - 5s 65ms/step - loss: 1.4947 - accuracy: 0.6677 - f1_m: 0.6255 - perplexity: 4.2024 - val_loss: 14.8647 - val_accuracy: 0.0792 - val_f1_m: 0.0752 - val_perplexity: 307989386887168.0000\n",
      "Epoch 152/300\n",
      "73/73 [==============================] - 5s 64ms/step - loss: 1.4339 - accuracy: 0.6926 - f1_m: 0.6474 - perplexity: 3.9632 - val_loss: 14.8648 - val_accuracy: 0.0826 - val_f1_m: 0.0762 - val_perplexity: 334392966774784.0000\n",
      "Epoch 153/300\n",
      "73/73 [==============================] - 5s 65ms/step - loss: 1.4506 - accuracy: 0.6895 - f1_m: 0.6429 - perplexity: 3.8785 - val_loss: 14.7830 - val_accuracy: 0.0740 - val_f1_m: 0.0802 - val_perplexity: 3670946128855040.0000\n",
      "Epoch 154/300\n",
      "73/73 [==============================] - 5s 65ms/step - loss: 1.4656 - accuracy: 0.6826 - f1_m: 0.6399 - perplexity: 3.9642 - val_loss: 14.8631 - val_accuracy: 0.0757 - val_f1_m: 0.0736 - val_perplexity: 452772331782144.0000\n",
      "Epoch 155/300\n",
      "73/73 [==============================] - 5s 65ms/step - loss: 1.4668 - accuracy: 0.6853 - f1_m: 0.6366 - perplexity: 4.7269 - val_loss: 15.0981 - val_accuracy: 0.0757 - val_f1_m: 0.0764 - val_perplexity: 7533094538051584.0000\n",
      "Epoch 156/300\n",
      "73/73 [==============================] - 5s 65ms/step - loss: 1.4186 - accuracy: 0.6927 - f1_m: 0.6525 - perplexity: 3.8607 - val_loss: 15.0353 - val_accuracy: 0.0740 - val_f1_m: 0.0762 - val_perplexity: 1205406999248896.0000\n",
      "Epoch 157/300\n",
      "73/73 [==============================] - 5s 66ms/step - loss: 1.4151 - accuracy: 0.6889 - f1_m: 0.6538 - perplexity: 3.9370 - val_loss: 14.9191 - val_accuracy: 0.0826 - val_f1_m: 0.0816 - val_perplexity: 656463403941888.0000\n",
      "Epoch 158/300\n",
      "73/73 [==============================] - 5s 65ms/step - loss: 1.4534 - accuracy: 0.6888 - f1_m: 0.6374 - perplexity: 4.0033 - val_loss: 14.9742 - val_accuracy: 0.0843 - val_f1_m: 0.0891 - val_perplexity: 573351223361536.0000\n",
      "Epoch 159/300\n",
      "73/73 [==============================] - 5s 67ms/step - loss: 1.4101 - accuracy: 0.7034 - f1_m: 0.6645 - perplexity: 4.2210 - val_loss: 14.8811 - val_accuracy: 0.0826 - val_f1_m: 0.0804 - val_perplexity: 5527437689487360.0000\n",
      "Epoch 160/300\n",
      "73/73 [==============================] - 5s 66ms/step - loss: 1.3918 - accuracy: 0.7019 - f1_m: 0.6694 - perplexity: 3.8531 - val_loss: 14.9627 - val_accuracy: 0.0775 - val_f1_m: 0.0815 - val_perplexity: 854968135319552.0000\n",
      "Epoch 161/300\n",
      "73/73 [==============================] - 5s 66ms/step - loss: 1.4216 - accuracy: 0.6986 - f1_m: 0.6652 - perplexity: 4.2935 - val_loss: 15.0235 - val_accuracy: 0.0809 - val_f1_m: 0.0771 - val_perplexity: 6703772860416000.0000\n",
      "Epoch 162/300\n",
      "73/73 [==============================] - 5s 67ms/step - loss: 1.3668 - accuracy: 0.7193 - f1_m: 0.6710 - perplexity: 4.3528 - val_loss: 14.8253 - val_accuracy: 0.0740 - val_f1_m: 0.0754 - val_perplexity: 161787005632512.0000\n",
      "Epoch 163/300\n",
      "73/73 [==============================] - 5s 66ms/step - loss: 1.2981 - accuracy: 0.7276 - f1_m: 0.6921 - perplexity: 3.6484 - val_loss: 14.9837 - val_accuracy: 0.0861 - val_f1_m: 0.0852 - val_perplexity: 53123016032256.0000\n",
      "Epoch 164/300\n",
      "73/73 [==============================] - 5s 66ms/step - loss: 1.4140 - accuracy: 0.6892 - f1_m: 0.6581 - perplexity: 4.0857 - val_loss: 15.0258 - val_accuracy: 0.0843 - val_f1_m: 0.0850 - val_perplexity: 580334974402560.0000\n",
      "Epoch 165/300\n",
      "73/73 [==============================] - 5s 67ms/step - loss: 1.3798 - accuracy: 0.7111 - f1_m: 0.6719 - perplexity: 4.0694 - val_loss: 15.1156 - val_accuracy: 0.0826 - val_f1_m: 0.0794 - val_perplexity: 952820576550912.0000\n",
      "Epoch 166/300\n",
      "73/73 [==============================] - 5s 67ms/step - loss: 1.3174 - accuracy: 0.7306 - f1_m: 0.6892 - perplexity: 3.8180 - val_loss: 15.0599 - val_accuracy: 0.0740 - val_f1_m: 0.0793 - val_perplexity: 546892077334528.0000\n",
      "Epoch 167/300\n",
      "73/73 [==============================] - 5s 66ms/step - loss: 1.3428 - accuracy: 0.7120 - f1_m: 0.6846 - perplexity: 3.8639 - val_loss: 15.0512 - val_accuracy: 0.0740 - val_f1_m: 0.0817 - val_perplexity: 333411096985600.0000\n",
      "Epoch 168/300\n",
      "73/73 [==============================] - 5s 65ms/step - loss: 1.3278 - accuracy: 0.7231 - f1_m: 0.6753 - perplexity: 3.5524 - val_loss: 15.1415 - val_accuracy: 0.0895 - val_f1_m: 0.0958 - val_perplexity: 780351936921600.0000\n",
      "Epoch 169/300\n",
      "73/73 [==============================] - 5s 67ms/step - loss: 1.3422 - accuracy: 0.7045 - f1_m: 0.6808 - perplexity: 3.8145 - val_loss: 15.1623 - val_accuracy: 0.0843 - val_f1_m: 0.0768 - val_perplexity: 50989331644416.0000\n",
      "Epoch 170/300\n",
      "73/73 [==============================] - 5s 65ms/step - loss: 1.3070 - accuracy: 0.7222 - f1_m: 0.6794 - perplexity: 3.7149 - val_loss: 15.1347 - val_accuracy: 0.0809 - val_f1_m: 0.0832 - val_perplexity: 871776087179264.0000\n",
      "Epoch 171/300\n",
      "73/73 [==============================] - 5s 67ms/step - loss: 1.3600 - accuracy: 0.7010 - f1_m: 0.6737 - perplexity: 3.7440 - val_loss: 15.3546 - val_accuracy: 0.0809 - val_f1_m: 0.0810 - val_perplexity: 2555718142001152.0000\n",
      "Epoch 172/300\n",
      "73/73 [==============================] - 5s 66ms/step - loss: 1.3514 - accuracy: 0.6966 - f1_m: 0.6815 - perplexity: 3.8798 - val_loss: 15.3152 - val_accuracy: 0.0826 - val_f1_m: 0.0854 - val_perplexity: 641945474957312.0000\n",
      "Epoch 173/300\n",
      "73/73 [==============================] - 5s 66ms/step - loss: 1.3380 - accuracy: 0.7104 - f1_m: 0.6813 - perplexity: 3.7633 - val_loss: 15.2973 - val_accuracy: 0.0792 - val_f1_m: 0.0871 - val_perplexity: 3543844087922688.0000\n",
      "Epoch 174/300\n",
      "73/73 [==============================] - 5s 66ms/step - loss: 1.3131 - accuracy: 0.7166 - f1_m: 0.6884 - perplexity: 3.7766 - val_loss: 15.1218 - val_accuracy: 0.0775 - val_f1_m: 0.0719 - val_perplexity: 51228524412928.0000\n",
      "Epoch 175/300\n",
      "73/73 [==============================] - 5s 66ms/step - loss: 1.2656 - accuracy: 0.7252 - f1_m: 0.7072 - perplexity: 3.5246 - val_loss: 15.3558 - val_accuracy: 0.0757 - val_f1_m: 0.0782 - val_perplexity: 3594270493638656.0000\n",
      "Epoch 176/300\n",
      "73/73 [==============================] - 5s 66ms/step - loss: 1.3344 - accuracy: 0.7240 - f1_m: 0.6847 - perplexity: 3.8688 - val_loss: 15.1722 - val_accuracy: 0.0740 - val_f1_m: 0.0835 - val_perplexity: 622155674943488.0000\n",
      "Epoch 177/300\n",
      "73/73 [==============================] - 5s 66ms/step - loss: 1.3258 - accuracy: 0.7012 - f1_m: 0.6747 - perplexity: 3.5774 - val_loss: 15.2519 - val_accuracy: 0.0775 - val_f1_m: 0.0891 - val_perplexity: 754808826888192.0000\n",
      "Epoch 178/300\n",
      "73/73 [==============================] - 5s 66ms/step - loss: 1.2610 - accuracy: 0.7418 - f1_m: 0.7068 - perplexity: 3.9974 - val_loss: 15.2178 - val_accuracy: 0.0878 - val_f1_m: 0.0875 - val_perplexity: 682542109818880.0000\n",
      "Epoch 179/300\n",
      "73/73 [==============================] - 5s 66ms/step - loss: 1.2295 - accuracy: 0.7450 - f1_m: 0.7275 - perplexity: 3.5264 - val_loss: 15.0416 - val_accuracy: 0.0861 - val_f1_m: 0.0912 - val_perplexity: 414313349120000.0000\n",
      "Epoch 180/300\n",
      "73/73 [==============================] - 5s 66ms/step - loss: 1.2478 - accuracy: 0.7378 - f1_m: 0.7065 - perplexity: 3.3443 - val_loss: 15.1887 - val_accuracy: 0.0775 - val_f1_m: 0.0813 - val_perplexity: 2044474897203200.0000\n",
      "Epoch 181/300\n",
      "73/73 [==============================] - 5s 67ms/step - loss: 1.2570 - accuracy: 0.7346 - f1_m: 0.7162 - perplexity: 3.8109 - val_loss: 15.2008 - val_accuracy: 0.0723 - val_f1_m: 0.0839 - val_perplexity: 2039324694544384.0000\n",
      "Epoch 182/300\n",
      "73/73 [==============================] - 5s 66ms/step - loss: 1.3040 - accuracy: 0.7059 - f1_m: 0.6910 - perplexity: 4.0698 - val_loss: 15.4814 - val_accuracy: 0.0740 - val_f1_m: 0.0783 - val_perplexity: 4128040707686400.0000\n",
      "Epoch 183/300\n",
      "73/73 [==============================] - 5s 66ms/step - loss: 1.2764 - accuracy: 0.7200 - f1_m: 0.7191 - perplexity: 3.7210 - val_loss: 15.3033 - val_accuracy: 0.0775 - val_f1_m: 0.0878 - val_perplexity: 1094396120399872.0000\n",
      "Epoch 184/300\n",
      "73/73 [==============================] - 5s 67ms/step - loss: 1.2657 - accuracy: 0.7246 - f1_m: 0.7084 - perplexity: 4.0874 - val_loss: 15.3808 - val_accuracy: 0.0792 - val_f1_m: 0.0922 - val_perplexity: 5285593449758720.0000\n",
      "Epoch 185/300\n",
      "73/73 [==============================] - 5s 66ms/step - loss: 1.2562 - accuracy: 0.7159 - f1_m: 0.6912 - perplexity: 3.6365 - val_loss: 15.4144 - val_accuracy: 0.0826 - val_f1_m: 0.0923 - val_perplexity: 1715852319653888.0000\n",
      "Epoch 186/300\n",
      "73/73 [==============================] - 5s 67ms/step - loss: 1.2296 - accuracy: 0.7414 - f1_m: 0.7232 - perplexity: 3.5835 - val_loss: 15.3593 - val_accuracy: 0.0826 - val_f1_m: 0.0895 - val_perplexity: 355355192197120.0000\n",
      "Epoch 187/300\n",
      "73/73 [==============================] - 5s 67ms/step - loss: 1.2700 - accuracy: 0.7295 - f1_m: 0.6912 - perplexity: 3.8530 - val_loss: 15.3288 - val_accuracy: 0.0757 - val_f1_m: 0.0848 - val_perplexity: 2200025325109248.0000\n",
      "Epoch 188/300\n",
      "73/73 [==============================] - 5s 67ms/step - loss: 1.1766 - accuracy: 0.7568 - f1_m: 0.7324 - perplexity: 3.4490 - val_loss: 15.3839 - val_accuracy: 0.0861 - val_f1_m: 0.0821 - val_perplexity: 278106833158144.0000\n",
      "Epoch 189/300\n",
      "73/73 [==============================] - 5s 66ms/step - loss: 1.2462 - accuracy: 0.7395 - f1_m: 0.7122 - perplexity: 3.8491 - val_loss: 15.4388 - val_accuracy: 0.0878 - val_f1_m: 0.0886 - val_perplexity: 2563388685156352.0000\n",
      "Epoch 190/300\n",
      "73/73 [==============================] - 5s 66ms/step - loss: 1.1992 - accuracy: 0.7467 - f1_m: 0.7267 - perplexity: 3.3807 - val_loss: 15.5379 - val_accuracy: 0.0861 - val_f1_m: 0.0938 - val_perplexity: 3265221774802944.0000\n",
      "Epoch 191/300\n",
      "73/73 [==============================] - 5s 67ms/step - loss: 1.2315 - accuracy: 0.7411 - f1_m: 0.7316 - perplexity: 3.9635 - val_loss: 15.4737 - val_accuracy: 0.0878 - val_f1_m: 0.0860 - val_perplexity: 964134661259264.0000\n",
      "Epoch 192/300\n",
      "73/73 [==============================] - 5s 67ms/step - loss: 1.1627 - accuracy: 0.7537 - f1_m: 0.7449 - perplexity: 3.4754 - val_loss: 15.4194 - val_accuracy: 0.0775 - val_f1_m: 0.0951 - val_perplexity: 649779361087488.0000\n",
      "Epoch 193/300\n",
      "73/73 [==============================] - 5s 67ms/step - loss: 1.2095 - accuracy: 0.7253 - f1_m: 0.7249 - perplexity: 3.6153 - val_loss: 15.3387 - val_accuracy: 0.0895 - val_f1_m: 0.0916 - val_perplexity: 323560992145408.0000\n",
      "Epoch 194/300\n",
      "73/73 [==============================] - 5s 67ms/step - loss: 1.2283 - accuracy: 0.7480 - f1_m: 0.7254 - perplexity: 3.6010 - val_loss: 15.2655 - val_accuracy: 0.0878 - val_f1_m: 0.0926 - val_perplexity: 499099728084992.0000\n",
      "Epoch 195/300\n",
      "73/73 [==============================] - 5s 67ms/step - loss: 1.1852 - accuracy: 0.7538 - f1_m: 0.7319 - perplexity: 3.3897 - val_loss: 15.2283 - val_accuracy: 0.0809 - val_f1_m: 0.0862 - val_perplexity: 93118389026816.0000\n",
      "Epoch 196/300\n",
      "73/73 [==============================] - 5s 67ms/step - loss: 1.1822 - accuracy: 0.7435 - f1_m: 0.7270 - perplexity: 3.4142 - val_loss: 15.4936 - val_accuracy: 0.0826 - val_f1_m: 0.0905 - val_perplexity: 1528570270711808.0000\n",
      "Epoch 197/300\n",
      "73/73 [==============================] - 5s 67ms/step - loss: 1.1479 - accuracy: 0.7624 - f1_m: 0.7525 - perplexity: 3.3773 - val_loss: 15.5033 - val_accuracy: 0.0861 - val_f1_m: 0.0981 - val_perplexity: 838301514727424.0000\n",
      "Epoch 198/300\n",
      "73/73 [==============================] - 5s 66ms/step - loss: 1.1711 - accuracy: 0.7515 - f1_m: 0.7444 - perplexity: 3.4069 - val_loss: 15.4888 - val_accuracy: 0.0843 - val_f1_m: 0.0851 - val_perplexity: 1823487018663936.0000\n",
      "Epoch 199/300\n",
      "73/73 [==============================] - 5s 67ms/step - loss: 1.1597 - accuracy: 0.7495 - f1_m: 0.7510 - perplexity: 3.3227 - val_loss: 15.4683 - val_accuracy: 0.0861 - val_f1_m: 0.0868 - val_perplexity: 1172727666835456.0000\n",
      "Epoch 200/300\n",
      "73/73 [==============================] - 5s 66ms/step - loss: 1.1400 - accuracy: 0.7672 - f1_m: 0.7355 - perplexity: 3.3110 - val_loss: 15.3769 - val_accuracy: 0.0775 - val_f1_m: 0.0916 - val_perplexity: 306515407798272.0000\n",
      "Epoch 201/300\n",
      "73/73 [==============================] - 5s 66ms/step - loss: 1.1717 - accuracy: 0.7589 - f1_m: 0.7346 - perplexity: 3.5169 - val_loss: 15.4328 - val_accuracy: 0.0775 - val_f1_m: 0.0891 - val_perplexity: 230580654440448.0000\n",
      "Epoch 202/300\n",
      "73/73 [==============================] - 5s 66ms/step - loss: 1.1410 - accuracy: 0.7492 - f1_m: 0.7419 - perplexity: 3.4346 - val_loss: 15.6391 - val_accuracy: 0.0775 - val_f1_m: 0.0829 - val_perplexity: 2221870065647616.0000\n",
      "Epoch 203/300\n",
      "73/73 [==============================] - 5s 66ms/step - loss: 1.1826 - accuracy: 0.7460 - f1_m: 0.7292 - perplexity: 3.4717 - val_loss: 15.4561 - val_accuracy: 0.0878 - val_f1_m: 0.0946 - val_perplexity: 295945761718272.0000\n",
      "Epoch 204/300\n",
      "73/73 [==============================] - 5s 68ms/step - loss: 1.1389 - accuracy: 0.7570 - f1_m: 0.7428 - perplexity: 3.1891 - val_loss: 15.5319 - val_accuracy: 0.0826 - val_f1_m: 0.0832 - val_perplexity: 1981755892432896.0000\n",
      "Epoch 205/300\n",
      "73/73 [==============================] - 5s 66ms/step - loss: 1.1124 - accuracy: 0.7544 - f1_m: 0.7461 - perplexity: 3.0828 - val_loss: 15.6907 - val_accuracy: 0.0809 - val_f1_m: 0.0870 - val_perplexity: 2732059030192128.0000\n",
      "Epoch 206/300\n",
      "73/73 [==============================] - 5s 65ms/step - loss: 1.0928 - accuracy: 0.7678 - f1_m: 0.7651 - perplexity: 3.2034 - val_loss: 15.4716 - val_accuracy: 0.0826 - val_f1_m: 0.0992 - val_perplexity: 922945924890624.0000\n",
      "Epoch 207/300\n",
      "73/73 [==============================] - 5s 67ms/step - loss: 1.0965 - accuracy: 0.7872 - f1_m: 0.7717 - perplexity: 3.3013 - val_loss: 15.3596 - val_accuracy: 0.0757 - val_f1_m: 0.0911 - val_perplexity: 1192239703261184.0000\n",
      "Epoch 208/300\n",
      "73/73 [==============================] - 5s 65ms/step - loss: 1.1323 - accuracy: 0.7694 - f1_m: 0.7515 - perplexity: 3.3261 - val_loss: 15.6441 - val_accuracy: 0.0740 - val_f1_m: 0.0810 - val_perplexity: 971479860641792.0000\n",
      "Epoch 209/300\n",
      "73/73 [==============================] - 5s 66ms/step - loss: 1.1019 - accuracy: 0.7620 - f1_m: 0.7455 - perplexity: 3.1206 - val_loss: 15.6397 - val_accuracy: 0.0826 - val_f1_m: 0.0872 - val_perplexity: 2141110184968192.0000\n",
      "Epoch 210/300\n",
      "73/73 [==============================] - 5s 67ms/step - loss: 1.0894 - accuracy: 0.7789 - f1_m: 0.7624 - perplexity: 3.1247 - val_loss: 15.7593 - val_accuracy: 0.0775 - val_f1_m: 0.0889 - val_perplexity: 3757684872445952.0000\n",
      "Epoch 211/300\n",
      "73/73 [==============================] - 5s 67ms/step - loss: 1.0784 - accuracy: 0.7596 - f1_m: 0.7674 - perplexity: 3.1675 - val_loss: 15.5464 - val_accuracy: 0.0895 - val_f1_m: 0.0903 - val_perplexity: 241157699272704.0000\n",
      "Epoch 212/300\n",
      "73/73 [==============================] - 5s 66ms/step - loss: 1.1273 - accuracy: 0.7523 - f1_m: 0.7612 - perplexity: 3.5529 - val_loss: 15.7045 - val_accuracy: 0.0757 - val_f1_m: 0.0898 - val_perplexity: 2528755679494144.0000\n",
      "Epoch 213/300\n",
      "73/73 [==============================] - 5s 66ms/step - loss: 1.0892 - accuracy: 0.7647 - f1_m: 0.7588 - perplexity: 3.2504 - val_loss: 15.7335 - val_accuracy: 0.0929 - val_f1_m: 0.0927 - val_perplexity: 1565616511123456.0000\n",
      "Epoch 214/300\n",
      "73/73 [==============================] - 5s 67ms/step - loss: 1.1105 - accuracy: 0.7670 - f1_m: 0.7578 - perplexity: 3.3635 - val_loss: 15.6805 - val_accuracy: 0.0895 - val_f1_m: 0.0877 - val_perplexity: 1287571200016384.0000\n",
      "Epoch 215/300\n",
      "73/73 [==============================] - 5s 68ms/step - loss: 1.0672 - accuracy: 0.7707 - f1_m: 0.7704 - perplexity: 3.0895 - val_loss: 15.6111 - val_accuracy: 0.0757 - val_f1_m: 0.0890 - val_perplexity: 450665784541184.0000\n",
      "Epoch 216/300\n",
      "73/73 [==============================] - 5s 67ms/step - loss: 1.1270 - accuracy: 0.7658 - f1_m: 0.7517 - perplexity: 3.4629 - val_loss: 15.7490 - val_accuracy: 0.0826 - val_f1_m: 0.0893 - val_perplexity: 3952909389660160.0000\n",
      "Epoch 217/300\n",
      "73/73 [==============================] - 5s 67ms/step - loss: 1.0808 - accuracy: 0.7564 - f1_m: 0.7586 - perplexity: 3.1503 - val_loss: 15.7088 - val_accuracy: 0.0775 - val_f1_m: 0.0947 - val_perplexity: 227837042753536.0000\n",
      "Epoch 218/300\n",
      "73/73 [==============================] - 5s 67ms/step - loss: 1.0765 - accuracy: 0.7807 - f1_m: 0.7556 - perplexity: 3.2897 - val_loss: 15.7419 - val_accuracy: 0.0861 - val_f1_m: 0.0879 - val_perplexity: 1152938068148224.0000\n",
      "Epoch 219/300\n",
      "73/73 [==============================] - 5s 67ms/step - loss: 1.1117 - accuracy: 0.7708 - f1_m: 0.7587 - perplexity: 3.7568 - val_loss: 15.7784 - val_accuracy: 0.0826 - val_f1_m: 0.0837 - val_perplexity: 993045428305920.0000\n",
      "Epoch 220/300\n",
      "73/73 [==============================] - 5s 68ms/step - loss: 1.0632 - accuracy: 0.7588 - f1_m: 0.7616 - perplexity: 3.1368 - val_loss: 15.8095 - val_accuracy: 0.0740 - val_f1_m: 0.0883 - val_perplexity: 7964539572191232.0000\n",
      "Epoch 221/300\n",
      "73/73 [==============================] - 5s 67ms/step - loss: 1.0327 - accuracy: 0.7865 - f1_m: 0.7822 - perplexity: 3.0011 - val_loss: 15.9148 - val_accuracy: 0.0809 - val_f1_m: 0.0942 - val_perplexity: 20392597063204864.0000\n",
      "Epoch 222/300\n",
      "73/73 [==============================] - 5s 68ms/step - loss: 1.1137 - accuracy: 0.7520 - f1_m: 0.7476 - perplexity: 3.3388 - val_loss: 15.8315 - val_accuracy: 0.0775 - val_f1_m: 0.0903 - val_perplexity: 640294731120640.0000\n",
      "Epoch 223/300\n",
      "73/73 [==============================] - 5s 69ms/step - loss: 1.0929 - accuracy: 0.7624 - f1_m: 0.7732 - perplexity: 3.3218 - val_loss: 15.8371 - val_accuracy: 0.0843 - val_f1_m: 0.0863 - val_perplexity: 7143901781557248.0000\n",
      "Epoch 224/300\n",
      "73/73 [==============================] - 5s 69ms/step - loss: 1.0602 - accuracy: 0.7666 - f1_m: 0.7700 - perplexity: 3.2980 - val_loss: 15.8022 - val_accuracy: 0.0792 - val_f1_m: 0.0914 - val_perplexity: 2272141315670016.0000\n",
      "Epoch 225/300\n",
      "73/73 [==============================] - 5s 68ms/step - loss: 1.1059 - accuracy: 0.7612 - f1_m: 0.7572 - perplexity: 3.2635 - val_loss: 15.7629 - val_accuracy: 0.0826 - val_f1_m: 0.0923 - val_perplexity: 3012566028648448.0000\n",
      "Epoch 226/300\n",
      "73/73 [==============================] - 5s 68ms/step - loss: 1.0749 - accuracy: 0.7751 - f1_m: 0.7693 - perplexity: 3.3318 - val_loss: 15.6317 - val_accuracy: 0.0861 - val_f1_m: 0.0947 - val_perplexity: 9928526648049664.0000\n",
      "Epoch 227/300\n",
      "73/73 [==============================] - 5s 68ms/step - loss: 1.0810 - accuracy: 0.7664 - f1_m: 0.7577 - perplexity: 3.1765 - val_loss: 15.9162 - val_accuracy: 0.0843 - val_f1_m: 0.0976 - val_perplexity: 2658704478437376.0000\n",
      "Epoch 228/300\n",
      "73/73 [==============================] - 5s 68ms/step - loss: 1.0521 - accuracy: 0.7821 - f1_m: 0.7726 - perplexity: 3.2805 - val_loss: 15.7926 - val_accuracy: 0.0809 - val_f1_m: 0.0893 - val_perplexity: 1728226523086848.0000\n",
      "Epoch 229/300\n",
      "73/73 [==============================] - 5s 68ms/step - loss: 1.0682 - accuracy: 0.7732 - f1_m: 0.7700 - perplexity: 3.2285 - val_loss: 15.4665 - val_accuracy: 0.0947 - val_f1_m: 0.0947 - val_perplexity: 3992271422750720.0000\n",
      "Epoch 230/300\n",
      "73/73 [==============================] - 5s 69ms/step - loss: 1.0434 - accuracy: 0.7770 - f1_m: 0.7730 - perplexity: 3.1562 - val_loss: 15.7187 - val_accuracy: 0.0843 - val_f1_m: 0.0945 - val_perplexity: 1076038087999488.0000\n",
      "Epoch 231/300\n",
      "73/73 [==============================] - 5s 69ms/step - loss: 1.0779 - accuracy: 0.7522 - f1_m: 0.7663 - perplexity: 3.0925 - val_loss: 15.9861 - val_accuracy: 0.0809 - val_f1_m: 0.0908 - val_perplexity: 16676630013411328.0000\n",
      "Epoch 232/300\n",
      "73/73 [==============================] - 5s 69ms/step - loss: 1.0430 - accuracy: 0.7732 - f1_m: 0.7805 - perplexity: 3.1988 - val_loss: 15.7447 - val_accuracy: 0.0809 - val_f1_m: 0.0873 - val_perplexity: 434855003291648.0000\n",
      "Epoch 233/300\n",
      "73/73 [==============================] - 5s 68ms/step - loss: 1.0465 - accuracy: 0.7852 - f1_m: 0.7903 - perplexity: 3.3506 - val_loss: 15.8364 - val_accuracy: 0.0792 - val_f1_m: 0.0940 - val_perplexity: 2342868421181440.0000\n",
      "Epoch 234/300\n",
      "73/73 [==============================] - 5s 68ms/step - loss: 1.0212 - accuracy: 0.7907 - f1_m: 0.7835 - perplexity: 3.2548 - val_loss: 16.0774 - val_accuracy: 0.0826 - val_f1_m: 0.0917 - val_perplexity: 53233748811972608.0000\n",
      "Epoch 235/300\n",
      "73/73 [==============================] - 5s 68ms/step - loss: 1.0317 - accuracy: 0.7697 - f1_m: 0.7733 - perplexity: 3.0746 - val_loss: 15.8494 - val_accuracy: 0.0843 - val_f1_m: 0.0911 - val_perplexity: 2956019294535680.0000\n",
      "Epoch 236/300\n",
      "73/73 [==============================] - 5s 68ms/step - loss: 1.0269 - accuracy: 0.7688 - f1_m: 0.7623 - perplexity: 2.9509 - val_loss: 15.9032 - val_accuracy: 0.0895 - val_f1_m: 0.0966 - val_perplexity: 3909488344039424.0000\n",
      "Epoch 237/300\n",
      "73/73 [==============================] - 5s 68ms/step - loss: 1.0636 - accuracy: 0.7628 - f1_m: 0.7634 - perplexity: 3.6761 - val_loss: 15.6724 - val_accuracy: 0.0809 - val_f1_m: 0.0965 - val_perplexity: 2532496596008960.0000\n",
      "Epoch 238/300\n",
      "73/73 [==============================] - 5s 68ms/step - loss: 0.9492 - accuracy: 0.8012 - f1_m: 0.7969 - perplexity: 2.7072 - val_loss: 15.9059 - val_accuracy: 0.0757 - val_f1_m: 0.0890 - val_perplexity: 1732214534438912.0000\n",
      "Epoch 239/300\n",
      "73/73 [==============================] - 5s 68ms/step - loss: 0.9988 - accuracy: 0.7863 - f1_m: 0.7863 - perplexity: 3.0342 - val_loss: 15.8230 - val_accuracy: 0.0895 - val_f1_m: 0.0926 - val_perplexity: 12290442980753408.0000\n",
      "Epoch 240/300\n",
      "73/73 [==============================] - 5s 68ms/step - loss: 1.0142 - accuracy: 0.7892 - f1_m: 0.7911 - perplexity: 3.0996 - val_loss: 15.7081 - val_accuracy: 0.0775 - val_f1_m: 0.0948 - val_perplexity: 665530549665792.0000\n",
      "Epoch 241/300\n",
      "73/73 [==============================] - 5s 68ms/step - loss: 1.0184 - accuracy: 0.7849 - f1_m: 0.7864 - perplexity: 3.0509 - val_loss: 15.7442 - val_accuracy: 0.0895 - val_f1_m: 0.0981 - val_perplexity: 885161285648384.0000\n",
      "Epoch 242/300\n",
      "73/73 [==============================] - 5s 67ms/step - loss: 1.0226 - accuracy: 0.7768 - f1_m: 0.7889 - perplexity: 3.1091 - val_loss: 15.8197 - val_accuracy: 0.0757 - val_f1_m: 0.0901 - val_perplexity: 1603501075464192.0000\n",
      "Epoch 243/300\n",
      "73/73 [==============================] - 5s 68ms/step - loss: 1.0289 - accuracy: 0.7844 - f1_m: 0.7773 - perplexity: 3.0975 - val_loss: 15.8832 - val_accuracy: 0.0723 - val_f1_m: 0.0854 - val_perplexity: 905162478583808.0000\n",
      "Epoch 244/300\n",
      "73/73 [==============================] - 5s 69ms/step - loss: 1.0028 - accuracy: 0.7765 - f1_m: 0.7824 - perplexity: 3.0062 - val_loss: 15.7851 - val_accuracy: 0.0843 - val_f1_m: 0.0816 - val_perplexity: 290696137277440.0000\n",
      "Epoch 245/300\n",
      "73/73 [==============================] - 5s 69ms/step - loss: 0.9881 - accuracy: 0.7924 - f1_m: 0.8028 - perplexity: 3.1479 - val_loss: 15.8773 - val_accuracy: 0.0723 - val_f1_m: 0.0853 - val_perplexity: 1254980317085696.0000\n",
      "Epoch 246/300\n",
      "73/73 [==============================] - 5s 69ms/step - loss: 1.0146 - accuracy: 0.7796 - f1_m: 0.7830 - perplexity: 3.0756 - val_loss: 15.9007 - val_accuracy: 0.0775 - val_f1_m: 0.0867 - val_perplexity: 76038193283072.0000\n",
      "Epoch 247/300\n",
      "73/73 [==============================] - 5s 69ms/step - loss: 1.0029 - accuracy: 0.7806 - f1_m: 0.7754 - perplexity: 2.9886 - val_loss: 15.8004 - val_accuracy: 0.0688 - val_f1_m: 0.0856 - val_perplexity: 230740088324096.0000\n",
      "Epoch 248/300\n",
      "73/73 [==============================] - 5s 69ms/step - loss: 1.0379 - accuracy: 0.7793 - f1_m: 0.7810 - perplexity: 3.1851 - val_loss: 15.9401 - val_accuracy: 0.0809 - val_f1_m: 0.0876 - val_perplexity: 868525736460288.0000\n",
      "Epoch 249/300\n",
      "73/73 [==============================] - 5s 69ms/step - loss: 1.0201 - accuracy: 0.7789 - f1_m: 0.7985 - perplexity: 3.2463 - val_loss: 15.8945 - val_accuracy: 0.0826 - val_f1_m: 0.0962 - val_perplexity: 675799011164160.0000\n",
      "Epoch 250/300\n",
      "73/73 [==============================] - 5s 68ms/step - loss: 1.0153 - accuracy: 0.7810 - f1_m: 0.7831 - perplexity: 3.2467 - val_loss: 15.7427 - val_accuracy: 0.0843 - val_f1_m: 0.0915 - val_perplexity: 489521548361728.0000\n",
      "Epoch 251/300\n",
      "73/73 [==============================] - 5s 69ms/step - loss: 0.9909 - accuracy: 0.7893 - f1_m: 0.8015 - perplexity: 3.1821 - val_loss: 15.6322 - val_accuracy: 0.0826 - val_f1_m: 0.0938 - val_perplexity: 3223581529997312.0000\n",
      "Epoch 252/300\n",
      "73/73 [==============================] - 5s 70ms/step - loss: 0.9932 - accuracy: 0.7877 - f1_m: 0.8006 - perplexity: 4.1214 - val_loss: 15.7591 - val_accuracy: 0.0912 - val_f1_m: 0.0950 - val_perplexity: 3694896745545728.0000\n",
      "Epoch 253/300\n",
      "73/73 [==============================] - 5s 68ms/step - loss: 1.0083 - accuracy: 0.7906 - f1_m: 0.7858 - perplexity: 3.2831 - val_loss: 15.9339 - val_accuracy: 0.0964 - val_f1_m: 0.0989 - val_perplexity: 5289958210273280.0000\n",
      "Epoch 254/300\n",
      "73/73 [==============================] - 5s 69ms/step - loss: 0.9923 - accuracy: 0.7929 - f1_m: 0.7963 - perplexity: 3.2907 - val_loss: 15.7957 - val_accuracy: 0.0826 - val_f1_m: 0.1000 - val_perplexity: 21331691662475264.0000\n",
      "Epoch 255/300\n",
      "73/73 [==============================] - 5s 68ms/step - loss: 0.9981 - accuracy: 0.7756 - f1_m: 0.7769 - perplexity: 3.1988 - val_loss: 16.0053 - val_accuracy: 0.0792 - val_f1_m: 0.0962 - val_perplexity: 1073718067462144.0000\n",
      "Epoch 256/300\n",
      "73/73 [==============================] - 5s 69ms/step - loss: 0.9646 - accuracy: 0.7865 - f1_m: 0.7936 - perplexity: 3.0597 - val_loss: 15.8728 - val_accuracy: 0.0861 - val_f1_m: 0.0924 - val_perplexity: 641533963403264.0000\n",
      "Epoch 257/300\n",
      "73/73 [==============================] - 5s 69ms/step - loss: 1.0269 - accuracy: 0.7694 - f1_m: 0.7793 - perplexity: 3.1470 - val_loss: 15.9198 - val_accuracy: 0.0809 - val_f1_m: 0.0903 - val_perplexity: 33861427672383488.0000\n",
      "Epoch 258/300\n",
      "73/73 [==============================] - 5s 69ms/step - loss: 0.9474 - accuracy: 0.7867 - f1_m: 0.8014 - perplexity: 2.9727 - val_loss: 15.8800 - val_accuracy: 0.0757 - val_f1_m: 0.0905 - val_perplexity: 1407288178900992.0000\n",
      "Epoch 259/300\n",
      "73/73 [==============================] - 5s 70ms/step - loss: 0.9488 - accuracy: 0.7944 - f1_m: 0.7930 - perplexity: 3.0071 - val_loss: 15.7110 - val_accuracy: 0.0843 - val_f1_m: 0.0874 - val_perplexity: 183157622046720.0000\n",
      "Epoch 260/300\n",
      "73/73 [==============================] - 5s 69ms/step - loss: 0.9573 - accuracy: 0.7902 - f1_m: 0.7969 - perplexity: 2.9047 - val_loss: 15.7057 - val_accuracy: 0.0792 - val_f1_m: 0.0910 - val_perplexity: 53855890964480.0000\n",
      "Epoch 261/300\n",
      "73/73 [==============================] - 5s 68ms/step - loss: 0.9294 - accuracy: 0.8023 - f1_m: 0.8162 - perplexity: 2.8554 - val_loss: 15.8763 - val_accuracy: 0.0792 - val_f1_m: 0.0912 - val_perplexity: 515176595980288.0000\n",
      "Epoch 262/300\n",
      "73/73 [==============================] - 5s 69ms/step - loss: 0.9186 - accuracy: 0.8052 - f1_m: 0.8123 - perplexity: 2.8947 - val_loss: 15.7231 - val_accuracy: 0.0757 - val_f1_m: 0.0866 - val_perplexity: 701226559733760.0000\n",
      "Epoch 263/300\n",
      "73/73 [==============================] - 5s 68ms/step - loss: 0.9319 - accuracy: 0.7884 - f1_m: 0.8045 - perplexity: 2.8530 - val_loss: 15.9375 - val_accuracy: 0.0775 - val_f1_m: 0.0880 - val_perplexity: 295910294683648.0000\n",
      "Epoch 264/300\n",
      "73/73 [==============================] - 5s 68ms/step - loss: 0.9545 - accuracy: 0.7991 - f1_m: 0.8128 - perplexity: 3.0460 - val_loss: 16.0570 - val_accuracy: 0.0757 - val_f1_m: 0.0893 - val_perplexity: 3301861603934208.0000\n",
      "Epoch 265/300\n",
      "73/73 [==============================] - 5s 69ms/step - loss: 0.9476 - accuracy: 0.7965 - f1_m: 0.8071 - perplexity: 3.1709 - val_loss: 15.8739 - val_accuracy: 0.0775 - val_f1_m: 0.0911 - val_perplexity: 408443269677056.0000\n",
      "Epoch 266/300\n",
      "73/73 [==============================] - 5s 69ms/step - loss: 0.9769 - accuracy: 0.7842 - f1_m: 0.7889 - perplexity: 3.1673 - val_loss: 15.8210 - val_accuracy: 0.0809 - val_f1_m: 0.0848 - val_perplexity: 2391731190366208.0000\n",
      "Epoch 267/300\n",
      "73/73 [==============================] - 5s 69ms/step - loss: 0.9190 - accuracy: 0.7939 - f1_m: 0.8058 - perplexity: 2.8801 - val_loss: 16.0753 - val_accuracy: 0.0861 - val_f1_m: 0.0996 - val_perplexity: 12423796346585088.0000\n",
      "Epoch 268/300\n",
      "73/73 [==============================] - 5s 69ms/step - loss: 1.0163 - accuracy: 0.7785 - f1_m: 0.7727 - perplexity: 3.1539 - val_loss: 15.8195 - val_accuracy: 0.0861 - val_f1_m: 0.0956 - val_perplexity: 1435000918507520.0000\n",
      "Epoch 269/300\n",
      "73/73 [==============================] - 5s 68ms/step - loss: 0.9945 - accuracy: 0.7858 - f1_m: 0.7935 - perplexity: 3.9757 - val_loss: 15.6970 - val_accuracy: 0.0809 - val_f1_m: 0.0912 - val_perplexity: 746125812301824.0000\n",
      "Epoch 270/300\n",
      "73/73 [==============================] - 5s 69ms/step - loss: 0.9268 - accuracy: 0.8053 - f1_m: 0.8111 - perplexity: 2.9613 - val_loss: 15.8026 - val_accuracy: 0.0861 - val_f1_m: 0.0942 - val_perplexity: 1795293779591168.0000\n",
      "Epoch 271/300\n",
      "73/73 [==============================] - 5s 69ms/step - loss: 1.0079 - accuracy: 0.7845 - f1_m: 0.7825 - perplexity: 3.2113 - val_loss: 15.9641 - val_accuracy: 0.0740 - val_f1_m: 0.0898 - val_perplexity: 228365273399296.0000\n",
      "Epoch 272/300\n",
      "73/73 [==============================] - 5s 69ms/step - loss: 0.9791 - accuracy: 0.7754 - f1_m: 0.7913 - perplexity: 3.0090 - val_loss: 15.9844 - val_accuracy: 0.0878 - val_f1_m: 0.0947 - val_perplexity: 3341676487639040.0000\n",
      "Epoch 273/300\n",
      "73/73 [==============================] - 5s 69ms/step - loss: 0.9450 - accuracy: 0.7931 - f1_m: 0.8170 - perplexity: 3.1515 - val_loss: 15.7958 - val_accuracy: 0.0843 - val_f1_m: 0.0952 - val_perplexity: 606530248376320.0000\n",
      "Epoch 274/300\n",
      "73/73 [==============================] - 5s 69ms/step - loss: 0.9345 - accuracy: 0.7883 - f1_m: 0.8009 - perplexity: 2.8966 - val_loss: 15.8980 - val_accuracy: 0.0706 - val_f1_m: 0.0890 - val_perplexity: 1178175832850432.0000\n",
      "Epoch 275/300\n",
      "73/73 [==============================] - 5s 71ms/step - loss: 0.9577 - accuracy: 0.7846 - f1_m: 0.8006 - perplexity: 2.9766 - val_loss: 16.0307 - val_accuracy: 0.0792 - val_f1_m: 0.0846 - val_perplexity: 2584948615675904.0000\n",
      "Epoch 276/300\n",
      "73/73 [==============================] - 5s 69ms/step - loss: 0.9384 - accuracy: 0.7907 - f1_m: 0.8057 - perplexity: 2.9484 - val_loss: 16.0361 - val_accuracy: 0.0826 - val_f1_m: 0.0845 - val_perplexity: 18120198586368000.0000\n",
      "Epoch 277/300\n",
      "73/73 [==============================] - 5s 69ms/step - loss: 0.9098 - accuracy: 0.8054 - f1_m: 0.8182 - perplexity: 2.9374 - val_loss: 15.7847 - val_accuracy: 0.0843 - val_f1_m: 0.0978 - val_perplexity: 3591364411392000.0000\n",
      "Epoch 278/300\n",
      "73/73 [==============================] - 5s 69ms/step - loss: 0.9016 - accuracy: 0.8145 - f1_m: 0.8262 - perplexity: 3.3413 - val_loss: 15.6860 - val_accuracy: 0.0826 - val_f1_m: 0.0889 - val_perplexity: 221751040540672.0000\n",
      "Epoch 279/300\n",
      "73/73 [==============================] - 5s 69ms/step - loss: 0.9111 - accuracy: 0.8002 - f1_m: 0.8200 - perplexity: 2.9588 - val_loss: 15.8607 - val_accuracy: 0.0878 - val_f1_m: 0.0896 - val_perplexity: 3090031400976384.0000\n",
      "Epoch 280/300\n",
      "73/73 [==============================] - 5s 69ms/step - loss: 0.9029 - accuracy: 0.8108 - f1_m: 0.8259 - perplexity: 2.9331 - val_loss: 16.0270 - val_accuracy: 0.0947 - val_f1_m: 0.0948 - val_perplexity: 6512822372532224.0000\n",
      "Epoch 281/300\n",
      "73/73 [==============================] - 5s 69ms/step - loss: 0.9491 - accuracy: 0.7891 - f1_m: 0.8191 - perplexity: 3.2879 - val_loss: 16.0275 - val_accuracy: 0.0912 - val_f1_m: 0.0926 - val_perplexity: 2754254079000576.0000\n",
      "Epoch 282/300\n",
      "73/73 [==============================] - 5s 69ms/step - loss: 0.8918 - accuracy: 0.8120 - f1_m: 0.8171 - perplexity: 2.9537 - val_loss: 15.8607 - val_accuracy: 0.0895 - val_f1_m: 0.0891 - val_perplexity: 1537398844424192.0000\n",
      "Epoch 283/300\n",
      "73/73 [==============================] - 5s 69ms/step - loss: 0.9328 - accuracy: 0.7890 - f1_m: 0.8045 - perplexity: 3.0086 - val_loss: 15.9125 - val_accuracy: 0.0861 - val_f1_m: 0.1018 - val_perplexity: 4949457498013696.0000\n",
      "Epoch 284/300\n",
      "73/73 [==============================] - 5s 71ms/step - loss: 0.8710 - accuracy: 0.8122 - f1_m: 0.8214 - perplexity: 2.7341 - val_loss: 15.9510 - val_accuracy: 0.0826 - val_f1_m: 0.0910 - val_perplexity: 6518504077393920.0000\n",
      "Epoch 285/300\n",
      "73/73 [==============================] - 5s 69ms/step - loss: 0.8690 - accuracy: 0.8148 - f1_m: 0.8216 - perplexity: 2.6207 - val_loss: 15.9939 - val_accuracy: 0.0878 - val_f1_m: 0.0916 - val_perplexity: 2922295211327488.0000\n",
      "Epoch 286/300\n",
      "73/73 [==============================] - 5s 69ms/step - loss: 0.8959 - accuracy: 0.8043 - f1_m: 0.8093 - perplexity: 2.9657 - val_loss: 16.2973 - val_accuracy: 0.0775 - val_f1_m: 0.0842 - val_perplexity: 1828918541680640.0000\n",
      "Epoch 287/300\n",
      "73/73 [==============================] - 5s 70ms/step - loss: 0.9117 - accuracy: 0.7974 - f1_m: 0.7975 - perplexity: 2.9225 - val_loss: 16.2249 - val_accuracy: 0.0878 - val_f1_m: 0.0942 - val_perplexity: 18761834488135680.0000\n",
      "Epoch 288/300\n",
      "73/73 [==============================] - 5s 71ms/step - loss: 0.8673 - accuracy: 0.8156 - f1_m: 0.8162 - perplexity: 2.8802 - val_loss: 15.9834 - val_accuracy: 0.0861 - val_f1_m: 0.1002 - val_perplexity: 3249629969776640.0000\n",
      "Epoch 289/300\n",
      "73/73 [==============================] - 5s 69ms/step - loss: 0.9359 - accuracy: 0.8004 - f1_m: 0.8069 - perplexity: 2.9936 - val_loss: 15.9374 - val_accuracy: 0.0861 - val_f1_m: 0.0963 - val_perplexity: 432535385407488.0000\n",
      "Epoch 290/300\n",
      "73/73 [==============================] - 5s 70ms/step - loss: 0.9000 - accuracy: 0.7903 - f1_m: 0.8031 - perplexity: 2.8314 - val_loss: 16.0500 - val_accuracy: 0.0861 - val_f1_m: 0.0909 - val_perplexity: 665694496620544.0000\n",
      "Epoch 291/300\n",
      "73/73 [==============================] - 5s 70ms/step - loss: 0.8828 - accuracy: 0.8094 - f1_m: 0.8202 - perplexity: 2.7617 - val_loss: 16.1445 - val_accuracy: 0.0861 - val_f1_m: 0.0957 - val_perplexity: 2507697991712768.0000\n",
      "Epoch 292/300\n",
      "73/73 [==============================] - 5s 69ms/step - loss: 0.9010 - accuracy: 0.7997 - f1_m: 0.8098 - perplexity: 2.8849 - val_loss: 16.1894 - val_accuracy: 0.0895 - val_f1_m: 0.0983 - val_perplexity: 4622787117318144.0000\n",
      "Epoch 293/300\n",
      "73/73 [==============================] - 5s 69ms/step - loss: 0.9063 - accuracy: 0.7874 - f1_m: 0.8126 - perplexity: 2.9638 - val_loss: 16.1689 - val_accuracy: 0.0861 - val_f1_m: 0.0830 - val_perplexity: 3573437754769408.0000\n",
      "Epoch 294/300\n",
      "73/73 [==============================] - 5s 70ms/step - loss: 0.9013 - accuracy: 0.8082 - f1_m: 0.8197 - perplexity: 2.9488 - val_loss: 16.1091 - val_accuracy: 0.0895 - val_f1_m: 0.0957 - val_perplexity: 4263336472477696.0000\n",
      "Epoch 295/300\n",
      "73/73 [==============================] - 5s 69ms/step - loss: 0.8956 - accuracy: 0.8049 - f1_m: 0.8136 - perplexity: 2.9075 - val_loss: 15.9814 - val_accuracy: 0.0792 - val_f1_m: 0.0923 - val_perplexity: 1862159441068032.0000\n",
      "Epoch 296/300\n",
      "73/73 [==============================] - 5s 70ms/step - loss: 0.9313 - accuracy: 0.7940 - f1_m: 0.8003 - perplexity: 2.9083 - val_loss: 15.8972 - val_accuracy: 0.0861 - val_f1_m: 0.0947 - val_perplexity: 2706068304035840.0000\n",
      "Epoch 297/300\n",
      "73/73 [==============================] - 5s 69ms/step - loss: 0.8774 - accuracy: 0.8098 - f1_m: 0.8208 - perplexity: 2.9965 - val_loss: 16.0656 - val_accuracy: 0.0878 - val_f1_m: 0.0939 - val_perplexity: 45376419676553216.0000\n",
      "Epoch 298/300\n",
      "73/73 [==============================] - 5s 69ms/step - loss: 0.8897 - accuracy: 0.7990 - f1_m: 0.8151 - perplexity: 2.8492 - val_loss: 15.9016 - val_accuracy: 0.0826 - val_f1_m: 0.0871 - val_perplexity: 1914446507147264.0000\n",
      "Epoch 299/300\n",
      "73/73 [==============================] - 5s 70ms/step - loss: 0.9027 - accuracy: 0.7973 - f1_m: 0.8205 - perplexity: 2.8854 - val_loss: 16.2473 - val_accuracy: 0.0723 - val_f1_m: 0.0891 - val_perplexity: 3769806075461632.0000\n",
      "Epoch 300/300\n",
      "73/73 [==============================] - 5s 70ms/step - loss: 0.8382 - accuracy: 0.8297 - f1_m: 0.8299 - perplexity: 2.7105 - val_loss: 16.1967 - val_accuracy: 0.0740 - val_f1_m: 0.0825 - val_perplexity: 4496273486905344.0000\n"
     ]
    }
   ],
   "source": [
    "batch_size = 32 # minibatch \n",
    "num_epochs = 300 # nombre d'epochs\n",
    "\n",
    "\n",
    "#fit the model\n",
    "history = model.fit(predictors, label,\n",
    "                 batch_size=batch_size,\n",
    "                 shuffle=True,\n",
    "                 epochs=num_epochs,\n",
    "                 validation_split=0.2)\n",
    "\n"
   ]
  },
  {
   "cell_type": "code",
   "execution_count": 14,
   "metadata": {
    "colab": {
     "base_uri": "https://localhost:8080/",
     "height": 1000
    },
    "id": "OrNqpDy5o9Np",
    "outputId": "a9812551-cbf8-46a5-f3f3-268944304db0"
   },
   "outputs": [
    {
     "data": {
      "image/png": "[encoded data removed]",
      "text/plain": [
       "<Figure size 432x288 with 1 Axes>"
      ]
     },
     "metadata": {
      "needs_background": "light",
      "tags": []
     },
     "output_type": "display_data"
    },
    {
     "data": {
      "image/png": "[encoded data removed]",
      "text/plain": [
       "<Figure size 432x288 with 1 Axes>"
      ]
     },
     "metadata": {
      "needs_background": "light",
      "tags": []
     },
     "output_type": "display_data"
    },
    {
     "data": {
      "image/png": "[encoded data removed]",
      "text/plain": [
       "<Figure size 432x288 with 1 Axes>"
      ]
     },
     "metadata": {
      "needs_background": "light",
      "tags": []
     },
     "output_type": "display_data"
    },
    {
     "data": {
      "image/png": "[encoded data removed]",
      "text/plain": [
       "<Figure size 432x288 with 1 Axes>"
      ]
     },
     "metadata": {
      "needs_background": "light",
      "tags": []
     },
     "output_type": "display_data"
    }
   ],
   "source": [
    "import matplotlib.pyplot as plt\n",
    "acc = history.history['accuracy']\n",
    "loss = history.history['loss']\n",
    "f1 = history.history[\"f1_m\"]\n",
    "perplex = history.history[\"perplexity\"]\n",
    "epochs = range(len(acc))\n",
    "plt.plot(epochs, acc, 'b', label='Training accuracy')\n",
    "plt.title('Training accuracy')\n",
    "plt.figure()\n",
    "plt.plot(epochs, loss, 'b', label='Training Loss')\n",
    "plt.title('Training loss')\n",
    "plt.figure()\n",
    "plt.plot(epochs, f1, 'b', label='Training F1')\n",
    "plt.title('Training F1')\n",
    "plt.figure()\n",
    "plt.plot(epochs, perplex, 'b', label='Training Perplexity')\n",
    "plt.title('Training Perplexity')\n",
    "plt.legend()\n",
    "plt.show()"
   ]
  },
  {
   "cell_type": "code",
   "execution_count": 15,
   "metadata": {
    "id": "FsRiQH7co9Nr"
   },
   "outputs": [],
   "source": [
    "def gen_proverbs(seed, n_words):\n",
    "\n",
    "  for _ in range(n_words):\n",
    "    token_list = tokenizer.texts_to_sequences([seed])[0]\n",
    "    token_list = pad_sequences([token_list], maxlen=max_sequence_len-1, padding='pre')\n",
    "    predicted = model.predict_classes(token_list, verbose=0)\n",
    "    output = \"\"\n",
    "    for word, index in tokenizer.word_index.items():\n",
    "      if index == predicted:\n",
    "        output = word\n",
    "        break\n",
    "    seed += \" \" + output\n",
    "  return seed\n",
    "  \n",
    "\n"
   ]
  },
  {
   "cell_type": "code",
   "execution_count": 55,
   "metadata": {
    "colab": {
     "base_uri": "https://localhost:8080/",
     "height": 91
    },
    "id": "tTdoEI2ho9Nr",
    "outputId": "c831bee0-b49c-4b4a-9278-7cfc70fadf4a"
   },
   "outputs": [
    {
     "name": "stderr",
     "output_type": "stream",
     "text": [
      "/usr/local/lib/python3.7/dist-packages/tensorflow/python/keras/engine/sequential.py:450: UserWarning: `model.predict_classes()` is deprecated and will be removed after 2021-01-01. Please use instead:* `np.argmax(model.predict(x), axis=-1)`,   if your model does multi-class classification   (e.g. if it uses a `softmax` last-layer activation).* `(model.predict(x) > 0.5).astype(\"int32\")`,   if your model does binary classification   (e.g. if it uses a `sigmoid` last-layer activation).\n",
      "  warnings.warn('`model.predict_classes()` is deprecated and '\n"
     ]
    },
    {
     "data": {
      "application/vnd.google.colaboratory.intrinsic+json": {
       "type": "string"
      },
      "text/plain": [
       "' breast make a bee for pie the bell miles away'"
      ]
     },
     "execution_count": 55,
     "metadata": {
      "tags": []
     },
     "output_type": "execute_result"
    }
   ],
   "source": [
    "gen_proverbs(\"\", 10)"
   ]
  },
  {
   "cell_type": "code",
   "execution_count": null,
   "metadata": {
    "id": "8Xq9Ki-J0dgb"
   },
   "outputs": [],
   "source": []
  }
 ],
 "metadata": {
  "colab": {
   "collapsed_sections": [],
   "name": "Proverbs(3) lstm + F1 + Perplex.ipynb",
   "provenance": []
  },
  "kernelspec": {
   "display_name": "Python 3",
   "language": "python",
   "name": "python3"
  },
  "language_info": {
   "codemirror_mode": {
    "name": "ipython",
    "version": 3
   },
   "file_extension": ".py",
   "mimetype": "text/x-python",
   "name": "python",
   "nbconvert_exporter": "python",
   "pygments_lexer": "ipython3",
   "version": "3.7.7"
  }
 },
 "nbformat": 4,
 "nbformat_minor": 1
}
